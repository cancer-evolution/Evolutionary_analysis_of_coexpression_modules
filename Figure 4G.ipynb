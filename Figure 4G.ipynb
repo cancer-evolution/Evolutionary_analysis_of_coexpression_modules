{
 "cells": [
  {
   "cell_type": "code",
   "execution_count": 1,
   "id": "df516334-f754-491d-80b4-1cdc05439a06",
   "metadata": {},
   "outputs": [
    {
     "data": {
      "text/html": [
       "'/scratch/cloudstor/Modules Paper'"
      ],
      "text/latex": [
       "'/scratch/cloudstor/Modules Paper'"
      ],
      "text/markdown": [
       "'/scratch/cloudstor/Modules Paper'"
      ],
      "text/plain": [
       "[1] \"/scratch/cloudstor/Modules Paper\""
      ]
     },
     "metadata": {},
     "output_type": "display_data"
    }
   ],
   "source": [
    "getwd()"
   ]
  },
  {
   "cell_type": "code",
   "execution_count": 2,
   "id": "55da0a8b-ebd6-4e1c-8950-b2bfc6b1b6d9",
   "metadata": {},
   "outputs": [],
   "source": [
    "setwd(\"/Figure 4G\")"
   ]
  },
  {
   "cell_type": "code",
   "execution_count": 3,
   "id": "e73d7591-8211-4edf-86e8-a8e9f91e32ff",
   "metadata": {},
   "outputs": [
    {
     "data": {
      "text/plain": [
       "R version 4.1.2 (2021-11-01)\n",
       "Platform: x86_64-pc-linux-gnu (64-bit)\n",
       "Running under: CentOS Linux 7 (Core)\n",
       "\n",
       "Matrix products: default\n",
       "BLAS:   /cvmfs/sft.cern.ch/lcg/releases/R/4.1.2-f9ee4/x86_64-centos7-gcc8-opt/lib64/R/lib/libRblas.so\n",
       "LAPACK: /cvmfs/sft.cern.ch/lcg/releases/R/4.1.2-f9ee4/x86_64-centos7-gcc8-opt/lib64/R/lib/libRlapack.so\n",
       "\n",
       "locale:\n",
       " [1] LC_CTYPE=en_US.UTF-8       LC_NUMERIC=C              \n",
       " [3] LC_TIME=en_US.UTF-8        LC_COLLATE=en_US.UTF-8    \n",
       " [5] LC_MONETARY=en_US.UTF-8    LC_MESSAGES=en_US.UTF-8   \n",
       " [7] LC_PAPER=en_US.UTF-8       LC_NAME=C                 \n",
       " [9] LC_ADDRESS=C               LC_TELEPHONE=C            \n",
       "[11] LC_MEASUREMENT=en_US.UTF-8 LC_IDENTIFICATION=C       \n",
       "\n",
       "attached base packages:\n",
       "[1] stats     graphics  grDevices utils     datasets  methods   base     \n",
       "\n",
       "loaded via a namespace (and not attached):\n",
       " [1] fansi_1.0.3          crayon_1.5.1         utf8_1.2.2          \n",
       " [4] digest_0.6.29        IRdisplay_1.1.0.9000 repr_1.1.4.9000     \n",
       " [7] lifecycle_1.0.1      jsonlite_1.8.0       evaluate_0.16       \n",
       "[10] pillar_1.8.1         rlang_1.0.5          cli_3.3.0           \n",
       "[13] uuid_1.1-0           vctrs_0.4.1          IRkernel_1.3.0.9000 \n",
       "[16] tools_4.1.2          glue_1.6.2           xfun_0.32           \n",
       "[19] fastmap_1.1.0        compiler_4.1.2       base64enc_0.1-3     \n",
       "[22] pbdZMQ_0.3-7         htmltools_0.5.3      knitr_1.40          "
      ]
     },
     "metadata": {},
     "output_type": "display_data"
    }
   ],
   "source": [
    "sessionInfo()"
   ]
  },
  {
   "cell_type": "code",
   "execution_count": 4,
   "id": "8d35e2a5-c640-4524-8243-03c4169d5183",
   "metadata": {},
   "outputs": [
    {
     "data": {
      "text/html": [
       "<style>\n",
       ".list-inline {list-style: none; margin:0; padding: 0}\n",
       ".list-inline>li {display: inline-block}\n",
       ".list-inline>li:not(:last-child)::after {content: \"\\00b7\"; padding: 0 .5ex}\n",
       "</style>\n",
       "<ol class=list-inline><li>'Age Enrichment GBM modules.r'</li><li>'Age Enrichments GBM.txt'</li><li>'Fig 4G.pdf'</li><li>'GBM Module ssGSEA Gini - CGGA.Rdata'</li><li>'GBM.module.UC.MC.enrich.pvals.tsv'</li><li>'Glioma Random Forest and plot Gini coeffs.r'</li><li>'modules_brain.Rdata'</li><li>'Phylostrata_PNAS.txt.txt'</li><li>'ssGSEA_of_GBM_modules_on_all.Rdata'</li><li>'Untitled.ipynb'</li></ol>\n"
      ],
      "text/latex": [
       "\\begin{enumerate*}\n",
       "\\item 'Age Enrichment GBM modules.r'\n",
       "\\item 'Age Enrichments GBM.txt'\n",
       "\\item 'Fig 4G.pdf'\n",
       "\\item 'GBM Module ssGSEA Gini - CGGA.Rdata'\n",
       "\\item 'GBM.module.UC.MC.enrich.pvals.tsv'\n",
       "\\item 'Glioma Random Forest and plot Gini coeffs.r'\n",
       "\\item 'modules\\_brain.Rdata'\n",
       "\\item 'Phylostrata\\_PNAS.txt.txt'\n",
       "\\item 'ssGSEA\\_of\\_GBM\\_modules\\_on\\_all.Rdata'\n",
       "\\item 'Untitled.ipynb'\n",
       "\\end{enumerate*}\n"
      ],
      "text/markdown": [
       "1. 'Age Enrichment GBM modules.r'\n",
       "2. 'Age Enrichments GBM.txt'\n",
       "3. 'Fig 4G.pdf'\n",
       "4. 'GBM Module ssGSEA Gini - CGGA.Rdata'\n",
       "5. 'GBM.module.UC.MC.enrich.pvals.tsv'\n",
       "6. 'Glioma Random Forest and plot Gini coeffs.r'\n",
       "7. 'modules_brain.Rdata'\n",
       "8. 'Phylostrata_PNAS.txt.txt'\n",
       "9. 'ssGSEA_of_GBM_modules_on_all.Rdata'\n",
       "10. 'Untitled.ipynb'\n",
       "\n",
       "\n"
      ],
      "text/plain": [
       " [1] \"Age Enrichment GBM modules.r\"               \n",
       " [2] \"Age Enrichments GBM.txt\"                    \n",
       " [3] \"Fig 4G.pdf\"                                 \n",
       " [4] \"GBM Module ssGSEA Gini - CGGA.Rdata\"        \n",
       " [5] \"GBM.module.UC.MC.enrich.pvals.tsv\"          \n",
       " [6] \"Glioma Random Forest and plot Gini coeffs.r\"\n",
       " [7] \"modules_brain.Rdata\"                        \n",
       " [8] \"Phylostrata_PNAS.txt.txt\"                   \n",
       " [9] \"ssGSEA_of_GBM_modules_on_all.Rdata\"         \n",
       "[10] \"Untitled.ipynb\"                             "
      ]
     },
     "metadata": {},
     "output_type": "display_data"
    }
   ],
   "source": [
    "list.files()"
   ]
  },
  {
   "cell_type": "code",
   "execution_count": 5,
   "id": "be441540-7e15-4765-845c-aa040d127c03",
   "metadata": {},
   "outputs": [
    {
     "name": "stderr",
     "output_type": "stream",
     "text": [
      "randomForest 4.7-1.1\n",
      "\n",
      "Type rfNews() to see new features/changes/bug fixes.\n",
      "\n",
      "Type 'citation(\"pROC\")' for a citation.\n",
      "\n",
      "\n",
      "Attaching package: ‘pROC’\n",
      "\n",
      "\n",
      "The following objects are masked from ‘package:stats’:\n",
      "\n",
      "    cov, smooth, var\n",
      "\n",
      "\n",
      "\n",
      "Attaching package: ‘dplyr’\n",
      "\n",
      "\n",
      "The following object is masked from ‘package:randomForest’:\n",
      "\n",
      "    combine\n",
      "\n",
      "\n",
      "The following objects are masked from ‘package:stats’:\n",
      "\n",
      "    filter, lag\n",
      "\n",
      "\n",
      "The following objects are masked from ‘package:base’:\n",
      "\n",
      "    intersect, setdiff, setequal, union\n",
      "\n",
      "\n"
     ]
    }
   ],
   "source": [
    "## Load required libraries\n",
    "library(randomForest)\n",
    "library(pROC)\n",
    "library(dplyr)"
   ]
  },
  {
   "cell_type": "markdown",
   "id": "e064d45f-b2d9-4995-a114-7034e50e222e",
   "metadata": {},
   "source": [
    "### Load and prepare ssGSEA scores for modelling:"
   ]
  },
  {
   "cell_type": "code",
   "execution_count": 6,
   "id": "ee8bb60f-619c-49e2-bb85-ff446e448a0d",
   "metadata": {},
   "outputs": [],
   "source": [
    "load(\"ssGSEA_of_GBM_modules_on_all.Rdata\")"
   ]
  },
  {
   "cell_type": "code",
   "execution_count": 7,
   "id": "c62342fc-e8c8-431d-be09-ed1e3111f0b5",
   "metadata": {},
   "outputs": [],
   "source": [
    "LGG.mat.GBM.scores <- ssGSEA_of_GBM_modules_on_all[[\"LGG\"]]\n",
    "colnames( LGG.mat.GBM.scores ) <- paste(\"LGG\", colnames(LGG.mat.GBM.scores) )\n",
    "\n",
    "GBM.mat.GBM.scores <- ssGSEA_of_GBM_modules_on_all[[\"GBM\"]]\n",
    "colnames( GBM.mat.GBM.scores ) <- paste(\"GBM\", colnames(GBM.mat.GBM.scores) )\n",
    "\n",
    "combined.GBM.module.scores <- cbind(  LGG.mat.GBM.scores, GBM.mat.GBM.scores )"
   ]
  },
  {
   "cell_type": "markdown",
   "id": "02d15449-dc42-4df7-afcd-cb357168c2c3",
   "metadata": {},
   "source": [
    "#### Divide samples by cohort of origin:"
   ]
  },
  {
   "cell_type": "code",
   "execution_count": 8,
   "id": "d38be740-4820-4ec4-8991-b1e1e98c60ad",
   "metadata": {},
   "outputs": [],
   "source": [
    "Type <- substr(colnames(combined.GBM.module.scores), 1,3)\n",
    "combined.GBM.module.scores.for.RF <- data.frame( \"Type\"=Type, t(combined.GBM.module.scores) )\n",
    "\n",
    "combined.GBM.module.scores.for.RF$Type <- as.factor(combined.GBM.module.scores.for.RF$Type)"
   ]
  },
  {
   "cell_type": "markdown",
   "id": "b574aa31-57a0-41a8-893b-3ce4f744aec8",
   "metadata": {},
   "source": [
    "#### Remove grey module:"
   ]
  },
  {
   "cell_type": "code",
   "execution_count": 9,
   "id": "fc8a2d2b-9908-48e4-b7e2-bbb6834deb12",
   "metadata": {},
   "outputs": [],
   "source": [
    "combined.GBM.module.scores.for.RF <- combined.GBM.module.scores.for.RF[ , colnames(combined.GBM.module.scores.for.RF) !=\"grey\"]"
   ]
  },
  {
   "cell_type": "markdown",
   "id": "04601147-bc9b-4b9b-9441-2060e0d54808",
   "metadata": {},
   "source": [
    "## This function runs iterations of RF model:"
   ]
  },
  {
   "cell_type": "code",
   "execution_count": 10,
   "id": "550fc566-6d92-4062-b2d8-b64d3befef48",
   "metadata": {},
   "outputs": [],
   "source": [
    "RF.Train.Test <- function( mod.scores, group1, group2, niter=100, rtest1=100, rtest2=100) {\n",
    "  \n",
    "  ### Function for performing 100 permutations of training and testing with a random forest\n",
    "  ### on the specified data (mod.scores)\n",
    "  ### niter = num of permutations to do\n",
    "  ### rtest1 = num of samples to select for testing from group 1\n",
    "  ### rtest2 = num of samples to select for testing from group 2\n",
    "  \n",
    "  auc.values <- vector(mode=\"numeric\")\n",
    "  accuracy <- vector(mode=\"numeric\")\n",
    "  ROCs <- list()\n",
    "  Models <- list()\n",
    "  \n",
    "  ### Now have to divide into train and test sets\n",
    "  for( j in 1:niter ) {\n",
    "    rand.sample <- c( sample( group1, rtest1), sample( group2, rtest2) )\n",
    "    #print(summary(rand.sample))\n",
    "      \n",
    "    Train <- mod.scores[ rand.sample, ]\n",
    "    Valid <- mod.scores[ -rand.sample, ]\n",
    "      \n",
    "    #print( \"Length of Train\" )\n",
    "    #print( dim(Train) )\n",
    "    #print( paste( \"Length of Valid\", dim(Valid) ) )\n",
    "          \n",
    "    Train.RF <- randomForest(Type ~ ., data = Train, ntree = 500, mtry = 4, importance = TRUE, verbose=F)\n",
    "    Models[[j]] <- Train.RF\n",
    "    \n",
    "    predict.probs <- predict( Train.RF, Valid, type = \"prob\", verbose=F )\n",
    "    ### Assign predicted type\n",
    "    predict <- predict( Train.RF, Valid, type = \"Class\", verbose=F )\n",
    "    \n",
    "    mod.auc <- roc(predict, apply(predict.probs,1,max), auc=1, verbose=F)\n",
    "    ROCs[[j]] <- mod.auc\n",
    "    \n",
    "    auc.values[j] <- as.numeric( mod.auc$auc )\n",
    "    \n",
    "    accuracy[j] <- mean(  predict == Valid$Type)\n",
    "  }\n",
    "  \n",
    "  return( list(\"AUC\"=auc.values, \"Accuracy\"=accuracy, \"ROC\"=ROCs, \"Models\"=Models) )\n",
    "}\n"
   ]
  },
  {
   "cell_type": "markdown",
   "id": "562fadea-7424-47da-bb77-e199ea242dbb",
   "metadata": {},
   "source": [
    "### Train & test the model, dividing training/testing 70:30"
   ]
  },
  {
   "cell_type": "code",
   "execution_count": 11,
   "id": "3c13d391-ea3c-465d-a828-4a5959c5c205",
   "metadata": {},
   "outputs": [
    {
     "name": "stderr",
     "output_type": "stream",
     "text": [
      "Setting levels: control = GBM, case = LGG\n",
      "\n",
      "Setting direction: controls < cases\n",
      "\n",
      "Setting levels: control = GBM, case = LGG\n",
      "\n",
      "Setting direction: controls < cases\n",
      "\n",
      "Setting levels: control = GBM, case = LGG\n",
      "\n",
      "Setting direction: controls < cases\n",
      "\n",
      "Setting levels: control = GBM, case = LGG\n",
      "\n",
      "Setting direction: controls < cases\n",
      "\n",
      "Setting levels: control = GBM, case = LGG\n",
      "\n",
      "Setting direction: controls < cases\n",
      "\n",
      "Setting levels: control = GBM, case = LGG\n",
      "\n",
      "Setting direction: controls < cases\n",
      "\n",
      "Setting levels: control = GBM, case = LGG\n",
      "\n",
      "Setting direction: controls < cases\n",
      "\n",
      "Setting levels: control = GBM, case = LGG\n",
      "\n",
      "Setting direction: controls < cases\n",
      "\n",
      "Setting levels: control = GBM, case = LGG\n",
      "\n",
      "Setting direction: controls < cases\n",
      "\n",
      "Setting levels: control = GBM, case = LGG\n",
      "\n",
      "Setting direction: controls < cases\n",
      "\n",
      "Setting levels: control = GBM, case = LGG\n",
      "\n",
      "Setting direction: controls < cases\n",
      "\n",
      "Setting levels: control = GBM, case = LGG\n",
      "\n",
      "Setting direction: controls < cases\n",
      "\n",
      "Setting levels: control = GBM, case = LGG\n",
      "\n",
      "Setting direction: controls < cases\n",
      "\n",
      "Setting levels: control = GBM, case = LGG\n",
      "\n",
      "Setting direction: controls < cases\n",
      "\n",
      "Setting levels: control = GBM, case = LGG\n",
      "\n",
      "Setting direction: controls < cases\n",
      "\n",
      "Setting levels: control = GBM, case = LGG\n",
      "\n",
      "Setting direction: controls < cases\n",
      "\n",
      "Setting levels: control = GBM, case = LGG\n",
      "\n",
      "Setting direction: controls < cases\n",
      "\n",
      "Setting levels: control = GBM, case = LGG\n",
      "\n",
      "Setting direction: controls < cases\n",
      "\n",
      "Setting levels: control = GBM, case = LGG\n",
      "\n",
      "Setting direction: controls < cases\n",
      "\n",
      "Setting levels: control = GBM, case = LGG\n",
      "\n",
      "Setting direction: controls < cases\n",
      "\n",
      "Setting levels: control = GBM, case = LGG\n",
      "\n",
      "Setting direction: controls < cases\n",
      "\n",
      "Setting levels: control = GBM, case = LGG\n",
      "\n",
      "Setting direction: controls < cases\n",
      "\n",
      "Setting levels: control = GBM, case = LGG\n",
      "\n",
      "Setting direction: controls < cases\n",
      "\n",
      "Setting levels: control = GBM, case = LGG\n",
      "\n",
      "Setting direction: controls < cases\n",
      "\n",
      "Setting levels: control = GBM, case = LGG\n",
      "\n",
      "Setting direction: controls < cases\n",
      "\n",
      "Setting levels: control = GBM, case = LGG\n",
      "\n",
      "Setting direction: controls < cases\n",
      "\n",
      "Setting levels: control = GBM, case = LGG\n",
      "\n",
      "Setting direction: controls < cases\n",
      "\n",
      "Setting levels: control = GBM, case = LGG\n",
      "\n",
      "Setting direction: controls < cases\n",
      "\n",
      "Setting levels: control = GBM, case = LGG\n",
      "\n",
      "Setting direction: controls < cases\n",
      "\n",
      "Setting levels: control = GBM, case = LGG\n",
      "\n",
      "Setting direction: controls < cases\n",
      "\n",
      "Setting levels: control = GBM, case = LGG\n",
      "\n",
      "Setting direction: controls < cases\n",
      "\n",
      "Setting levels: control = GBM, case = LGG\n",
      "\n",
      "Setting direction: controls < cases\n",
      "\n",
      "Setting levels: control = GBM, case = LGG\n",
      "\n",
      "Setting direction: controls < cases\n",
      "\n",
      "Setting levels: control = GBM, case = LGG\n",
      "\n",
      "Setting direction: controls < cases\n",
      "\n",
      "Setting levels: control = GBM, case = LGG\n",
      "\n",
      "Setting direction: controls < cases\n",
      "\n",
      "Setting levels: control = GBM, case = LGG\n",
      "\n",
      "Setting direction: controls < cases\n",
      "\n",
      "Setting levels: control = GBM, case = LGG\n",
      "\n",
      "Setting direction: controls < cases\n",
      "\n",
      "Setting levels: control = GBM, case = LGG\n",
      "\n",
      "Setting direction: controls < cases\n",
      "\n",
      "Setting levels: control = GBM, case = LGG\n",
      "\n",
      "Setting direction: controls < cases\n",
      "\n",
      "Setting levels: control = GBM, case = LGG\n",
      "\n",
      "Setting direction: controls < cases\n",
      "\n",
      "Setting levels: control = GBM, case = LGG\n",
      "\n",
      "Setting direction: controls < cases\n",
      "\n",
      "Setting levels: control = GBM, case = LGG\n",
      "\n",
      "Setting direction: controls < cases\n",
      "\n",
      "Setting levels: control = GBM, case = LGG\n",
      "\n",
      "Setting direction: controls < cases\n",
      "\n",
      "Setting levels: control = GBM, case = LGG\n",
      "\n",
      "Setting direction: controls < cases\n",
      "\n",
      "Setting levels: control = GBM, case = LGG\n",
      "\n",
      "Setting direction: controls < cases\n",
      "\n",
      "Setting levels: control = GBM, case = LGG\n",
      "\n",
      "Setting direction: controls < cases\n",
      "\n",
      "Setting levels: control = GBM, case = LGG\n",
      "\n",
      "Setting direction: controls < cases\n",
      "\n",
      "Setting levels: control = GBM, case = LGG\n",
      "\n",
      "Setting direction: controls < cases\n",
      "\n",
      "Setting levels: control = GBM, case = LGG\n",
      "\n",
      "Setting direction: controls < cases\n",
      "\n",
      "Setting levels: control = GBM, case = LGG\n",
      "\n",
      "Setting direction: controls < cases\n",
      "\n",
      "Setting levels: control = GBM, case = LGG\n",
      "\n",
      "Setting direction: controls < cases\n",
      "\n",
      "Setting levels: control = GBM, case = LGG\n",
      "\n",
      "Setting direction: controls < cases\n",
      "\n",
      "Setting levels: control = GBM, case = LGG\n",
      "\n",
      "Setting direction: controls < cases\n",
      "\n",
      "Setting levels: control = GBM, case = LGG\n",
      "\n",
      "Setting direction: controls < cases\n",
      "\n",
      "Setting levels: control = GBM, case = LGG\n",
      "\n",
      "Setting direction: controls < cases\n",
      "\n",
      "Setting levels: control = GBM, case = LGG\n",
      "\n",
      "Setting direction: controls < cases\n",
      "\n",
      "Setting levels: control = GBM, case = LGG\n",
      "\n",
      "Setting direction: controls < cases\n",
      "\n",
      "Setting levels: control = GBM, case = LGG\n",
      "\n",
      "Setting direction: controls < cases\n",
      "\n",
      "Setting levels: control = GBM, case = LGG\n",
      "\n",
      "Setting direction: controls < cases\n",
      "\n",
      "Setting levels: control = GBM, case = LGG\n",
      "\n",
      "Setting direction: controls < cases\n",
      "\n",
      "Setting levels: control = GBM, case = LGG\n",
      "\n",
      "Setting direction: controls < cases\n",
      "\n",
      "Setting levels: control = GBM, case = LGG\n",
      "\n",
      "Setting direction: controls < cases\n",
      "\n",
      "Setting levels: control = GBM, case = LGG\n",
      "\n",
      "Setting direction: controls < cases\n",
      "\n",
      "Setting levels: control = GBM, case = LGG\n",
      "\n",
      "Setting direction: controls < cases\n",
      "\n",
      "Setting levels: control = GBM, case = LGG\n",
      "\n",
      "Setting direction: controls < cases\n",
      "\n",
      "Setting levels: control = GBM, case = LGG\n",
      "\n",
      "Setting direction: controls < cases\n",
      "\n",
      "Setting levels: control = GBM, case = LGG\n",
      "\n",
      "Setting direction: controls < cases\n",
      "\n",
      "Setting levels: control = GBM, case = LGG\n",
      "\n",
      "Setting direction: controls < cases\n",
      "\n",
      "Setting levels: control = GBM, case = LGG\n",
      "\n",
      "Setting direction: controls < cases\n",
      "\n",
      "Setting levels: control = GBM, case = LGG\n",
      "\n",
      "Setting direction: controls < cases\n",
      "\n",
      "Setting levels: control = GBM, case = LGG\n",
      "\n",
      "Setting direction: controls < cases\n",
      "\n",
      "Setting levels: control = GBM, case = LGG\n",
      "\n",
      "Setting direction: controls < cases\n",
      "\n",
      "Setting levels: control = GBM, case = LGG\n",
      "\n",
      "Setting direction: controls < cases\n",
      "\n",
      "Setting levels: control = GBM, case = LGG\n",
      "\n",
      "Setting direction: controls < cases\n",
      "\n",
      "Setting levels: control = GBM, case = LGG\n",
      "\n",
      "Setting direction: controls < cases\n",
      "\n",
      "Setting levels: control = GBM, case = LGG\n",
      "\n",
      "Setting direction: controls < cases\n",
      "\n",
      "Setting levels: control = GBM, case = LGG\n",
      "\n",
      "Setting direction: controls < cases\n",
      "\n",
      "Setting levels: control = GBM, case = LGG\n",
      "\n",
      "Setting direction: controls < cases\n",
      "\n",
      "Setting levels: control = GBM, case = LGG\n",
      "\n",
      "Setting direction: controls < cases\n",
      "\n",
      "Setting levels: control = GBM, case = LGG\n",
      "\n",
      "Setting direction: controls < cases\n",
      "\n",
      "Setting levels: control = GBM, case = LGG\n",
      "\n",
      "Setting direction: controls < cases\n",
      "\n",
      "Setting levels: control = GBM, case = LGG\n",
      "\n",
      "Setting direction: controls < cases\n",
      "\n",
      "Setting levels: control = GBM, case = LGG\n",
      "\n",
      "Setting direction: controls < cases\n",
      "\n",
      "Setting levels: control = GBM, case = LGG\n",
      "\n",
      "Setting direction: controls < cases\n",
      "\n",
      "Setting levels: control = GBM, case = LGG\n",
      "\n",
      "Setting direction: controls < cases\n",
      "\n",
      "Setting levels: control = GBM, case = LGG\n",
      "\n",
      "Setting direction: controls < cases\n",
      "\n",
      "Setting levels: control = GBM, case = LGG\n",
      "\n",
      "Setting direction: controls < cases\n",
      "\n",
      "Setting levels: control = GBM, case = LGG\n",
      "\n",
      "Setting direction: controls < cases\n",
      "\n",
      "Setting levels: control = GBM, case = LGG\n",
      "\n",
      "Setting direction: controls < cases\n",
      "\n",
      "Setting levels: control = GBM, case = LGG\n",
      "\n",
      "Setting direction: controls < cases\n",
      "\n",
      "Setting levels: control = GBM, case = LGG\n",
      "\n",
      "Setting direction: controls < cases\n",
      "\n",
      "Setting levels: control = GBM, case = LGG\n",
      "\n",
      "Setting direction: controls < cases\n",
      "\n",
      "Setting levels: control = GBM, case = LGG\n",
      "\n",
      "Setting direction: controls < cases\n",
      "\n",
      "Setting levels: control = GBM, case = LGG\n",
      "\n",
      "Setting direction: controls < cases\n",
      "\n",
      "Setting levels: control = GBM, case = LGG\n",
      "\n",
      "Setting direction: controls < cases\n",
      "\n",
      "Setting levels: control = GBM, case = LGG\n",
      "\n",
      "Setting direction: controls < cases\n",
      "\n",
      "Setting levels: control = GBM, case = LGG\n",
      "\n",
      "Setting direction: controls < cases\n",
      "\n",
      "Setting levels: control = GBM, case = LGG\n",
      "\n",
      "Setting direction: controls < cases\n",
      "\n",
      "Setting levels: control = GBM, case = LGG\n",
      "\n",
      "Setting direction: controls < cases\n",
      "\n",
      "Setting levels: control = GBM, case = LGG\n",
      "\n",
      "Setting direction: controls < cases\n",
      "\n"
     ]
    }
   ],
   "source": [
    "RF.Mixed.permute.70.30 <- RF.Train.Test(mod.score=combined.GBM.module.scores.for.RF, group1=combined.GBM.module.scores.for.RF$Type==\"LGG\",\n",
    "                                       group2=combined.GBM.module.scores.for.RF$Type==\"GBM\", rtest1=round( 512*0.3 ), rtest2=round( 153*0.3 ));"
   ]
  },
  {
   "cell_type": "code",
   "execution_count": 12,
   "id": "e8cfe838-e7ed-44bc-bb1a-46f6d7835d44",
   "metadata": {},
   "outputs": [],
   "source": [
    "combined.GBM.module.scores.for.RF$Type <- as.factor(combined.GBM.module.scores.for.RF$Type)\n",
    "\n",
    "RF <- randomForest(Type ~ ., data = combined.GBM.module.scores.for.RF, ntree = 500, mtry = 4, importance = TRUE, verbose=F)\n"
   ]
  },
  {
   "cell_type": "markdown",
   "id": "9482bd8c-7a4d-4183-b3eb-13221f973a9b",
   "metadata": {},
   "source": [
    "#### Collect the Gini coeffs for all modules"
   ]
  },
  {
   "cell_type": "code",
   "execution_count": 13,
   "id": "644cc824-881a-42ec-9db5-0965dfd2fe31",
   "metadata": {},
   "outputs": [],
   "source": [
    "Gini.df.Mixed <- data.frame( lapply( RF.Mixed.permute.70.30[[\"Models\"]], FUN=function(X){ as.numeric(X$importance[,4]) }) ) \n",
    "rownames(Gini.df.Mixed) <- rownames( RF.Mixed.permute.70.30[[\"Models\"]][[1]]$importance )"
   ]
  },
  {
   "cell_type": "markdown",
   "id": "82767d91-bf30-462a-9dd4-59aa0ec86589",
   "metadata": {},
   "source": [
    "### Get the percentage of MC genes in each GBM module"
   ]
  },
  {
   "cell_type": "code",
   "execution_count": 14,
   "id": "f7121cbe-8b44-4661-bf7e-d1fdb7fa214c",
   "metadata": {},
   "outputs": [],
   "source": [
    "GBM.module.UC.MC.status <- read.table(\"GBM.module.UC.MC.enrich.pvals.tsv\", sep=\"\\t\", head=T)\n",
    "\n",
    "Age.Enrichments.GBM <- read.table(\"Age Enrichments GBM.txt\", head=T, sep=\"\\t\")"
   ]
  },
  {
   "cell_type": "code",
   "execution_count": 15,
   "id": "48c05b63-c804-465d-a235-27689d94f31b",
   "metadata": {},
   "outputs": [
    {
     "data": {
      "text/html": [
       "'/Figure 4G'"
      ],
      "text/latex": [
       "'/Figure 4G'"
      ],
      "text/markdown": [
       "'/Figure 4G'"
      ],
      "text/plain": [
       "[1] \"/Figure 4G\""
      ]
     },
     "metadata": {},
     "output_type": "display_data"
    }
   ],
   "source": [
    "getwd()"
   ]
  },
  {
   "cell_type": "markdown",
   "id": "daa36e04-4867-4368-af2b-d66be4caff47",
   "metadata": {},
   "source": [
    "#### Plot Gini Coefficients"
   ]
  },
  {
   "cell_type": "code",
   "execution_count": 16,
   "id": "8165c54a-8018-4644-ba8b-f838685bca4e",
   "metadata": {},
   "outputs": [
    {
     "data": {
      "image/png": "[encoded data removed]",
      "text/plain": [
       "plot without title"
      ]
     },
     "metadata": {
      "image/png": {
       "height": 420,
       "width": 420
      }
     },
     "output_type": "display_data"
    }
   ],
   "source": [
    "boxplot(t(Gini.df.Mixed), las=2, frame=F, ylab=\"Mean decrease in Gini coefficient\")  ##, xlab=\"WGCNA Module\"\n"
   ]
  },
  {
   "cell_type": "markdown",
   "id": "bc90497a-6aeb-4449-abc7-f9ffe24d11a4",
   "metadata": {},
   "source": [
    "### Plot Ginis ordered by percentage of MC genes in the module:"
   ]
  },
  {
   "cell_type": "markdown",
   "id": "815957c7-70e3-4303-a5d3-83a46f2baae1",
   "metadata": {},
   "source": [
    "#### Read in data on prct MC genes per module:"
   ]
  },
  {
   "cell_type": "markdown",
   "id": "8b60ca81-0caa-4399-aa97-d8b25d7ce748",
   "metadata": {},
   "source": [
    "##### load in required data on gene phylostrata assignments"
   ]
  },
  {
   "cell_type": "code",
   "execution_count": 17,
   "id": "0496fc4d-ee72-4792-abc6-2aa5dd3d6de8",
   "metadata": {},
   "outputs": [],
   "source": [
    "### Data generated by ____ R script\n",
    "Gene.Phylostrata <- read.csv(\"Phylostrata_PNAS.txt.txt\")\n",
    "\n",
    "### Data generated by ____ R script\n",
    "#Age.Enrichments.GBM <- read.table(\"Age Enrichments GBM.txt\", head=T, sep=\"\\t\")\n",
    "\n",
    "load(\"modules_brain.Rdata\")"
   ]
  },
  {
   "cell_type": "code",
   "execution_count": 18,
   "id": "45337bb8-bc78-40f5-b77b-a2cc2f5abe9c",
   "metadata": {},
   "outputs": [
    {
     "data": {
      "text/plain": [
       "    GeneID              Entrez           Phylostrata    \n",
       " Length:17318       Min.   :        0   Min.   : 1.000  \n",
       " Class :character   1st Qu.:     6388   1st Qu.: 2.000  \n",
       " Mode  :character   Median :    27336   Median : 4.000  \n",
       "                    Mean   :   734703   Mean   : 5.434  \n",
       "                    3rd Qu.:    85463   3rd Qu.: 8.000  \n",
       "                    Max.   :102466515   Max.   :16.000  "
      ]
     },
     "metadata": {},
     "output_type": "display_data"
    }
   ],
   "source": [
    "summary(Gene.Phylostrata)"
   ]
  },
  {
   "cell_type": "markdown",
   "id": "6344ad25-2166-46e4-8147-a471968c56a2",
   "metadata": {},
   "source": [
    "#### Figure out if each module is UC, MC or UC-MC mixed."
   ]
  },
  {
   "cell_type": "code",
   "execution_count": 19,
   "id": "851114ae-af9f-431e-975e-1cc982d08536",
   "metadata": {},
   "outputs": [],
   "source": [
    "fisher.pvals <- list()\n",
    "\n",
    "for( colour in names(modules_brain$GBM) ) {\n",
    "\n",
    "    mod.genes <- modules_brain$GBM[[colour]]\n",
    "\n",
    "    mod.phylo <- subset( Gene.Phylostrata, GeneID %in% mod.genes )\n",
    "\n",
    "    MC.fraction = mean( mod.phylo$Phylostrata > 3 )\n",
    "\n",
    "    MC.pval <- fisher.test(cbind(  \n",
    "           as.numeric( summary( Gene.Phylostrata$Phylostrata > 3)[-1] ),\n",
    "           as.numeric( summary( mod.phylo$Phylostrata > 3)[-1] )\n",
    "      ), alt=\"g\" )$p.val\n",
    "\n",
    "    UC.pval <- fisher.test(cbind(  \n",
    "           as.numeric( summary( mod.phylo$Phylostrata <=3 )[-1] ),\n",
    "           as.numeric( summary( Gene.Phylostrata$Phylostrata <= 3)[-1] )\n",
    "            ), alt=\"l\" )$p.val\n",
    "\n",
    "    fisher.pvals[[\"GBM\"]][[colour]] <-  c( UC.pval, MC.pval, MC.fraction )\n",
    "}"
   ]
  },
  {
   "cell_type": "markdown",
   "id": "f68ed754-cec4-47f9-96a4-a7ca1b5f433d",
   "metadata": {},
   "source": [
    "#### Determine age enrichment status for each module based on enrichment p-values for each gene category"
   ]
  },
  {
   "cell_type": "code",
   "execution_count": 20,
   "id": "d027f02b-86d4-40e8-bb54-a443198dbc5a",
   "metadata": {},
   "outputs": [],
   "source": [
    "GBM.module.UC.MC.status <- rbind( data.frame( fisher.pvals[[\"GBM\"]]),\n",
    "\"Is UC\"=as.vector( data.frame( fisher.pvals[[\"GBM\"]] )[1,] <0.05 ),\n",
    "\"Is MC\"=as.vector( data.frame( fisher.pvals[[\"GBM\"]] )[2,] <0.05 )\n",
    ")\n",
    "\n",
    "rownames(GBM.module.UC.MC.status) <- c(\"UC enrich pval\", \"MC enrich pval\", \"prct MC\", \"Is UC\", \"Is MC\")\n"
   ]
  },
  {
   "cell_type": "code",
   "execution_count": 21,
   "id": "e55eb0f2-9019-432a-84d0-0cb5a9e0a04f",
   "metadata": {},
   "outputs": [
    {
     "data": {
      "text/html": [
       "<table class=\"dataframe\">\n",
       "<caption>A data.frame: 5 × 24</caption>\n",
       "<thead>\n",
       "\t<tr><th></th><th scope=col>brown</th><th scope=col>black</th><th scope=col>pink</th><th scope=col>red</th><th scope=col>blue</th><th scope=col>green</th><th scope=col>royalblue</th><th scope=col>greenyellow</th><th scope=col>darkgreen</th><th scope=col>grey</th><th scope=col>⋯</th><th scope=col>lightcyan</th><th scope=col>orange</th><th scope=col>salmon</th><th scope=col>cyan</th><th scope=col>magenta</th><th scope=col>darkred</th><th scope=col>lightgreen</th><th scope=col>lightyellow</th><th scope=col>skyblue</th><th scope=col>darkgrey</th></tr>\n",
       "\t<tr><th></th><th scope=col>&lt;dbl&gt;</th><th scope=col>&lt;dbl&gt;</th><th scope=col>&lt;dbl&gt;</th><th scope=col>&lt;dbl&gt;</th><th scope=col>&lt;dbl&gt;</th><th scope=col>&lt;dbl&gt;</th><th scope=col>&lt;dbl&gt;</th><th scope=col>&lt;dbl&gt;</th><th scope=col>&lt;dbl&gt;</th><th scope=col>&lt;dbl&gt;</th><th scope=col>⋯</th><th scope=col>&lt;dbl&gt;</th><th scope=col>&lt;dbl&gt;</th><th scope=col>&lt;dbl&gt;</th><th scope=col>&lt;dbl&gt;</th><th scope=col>&lt;dbl&gt;</th><th scope=col>&lt;dbl&gt;</th><th scope=col>&lt;dbl&gt;</th><th scope=col>&lt;dbl&gt;</th><th scope=col>&lt;dbl&gt;</th><th scope=col>&lt;dbl&gt;</th></tr>\n",
       "</thead>\n",
       "<tbody>\n",
       "\t<tr><th scope=row>UC enrich pval</th><td>0.8870344</td><td>2.053233e-16</td><td>0.004426228</td><td>0.4548710</td><td>1.058367e-125</td><td>4.554076e-21</td><td>0.99012892</td><td>0.6311240</td><td>0.9997315894</td><td>0.1130024</td><td>⋯</td><td>1.517546e-05</td><td>0.01517953</td><td>0.01767054</td><td>0.5973398</td><td>1.392468e-08</td><td>0.0000674157</td><td>1.548661e-05</td><td>0.99294324</td><td>0.6750255</td><td>3.707401e-11</td></tr>\n",
       "\t<tr><th scope=row>MC enrich pval</th><td>0.1286023</td><td>1.000000e+00</td><td>0.996983636</td><td>0.5917612</td><td> 1.000000e+00</td><td>1.000000e+00</td><td>0.01903247</td><td>0.4311708</td><td>0.0007022583</td><td>0.9536791</td><td>⋯</td><td>9.999938e-01</td><td>0.99289444</td><td>0.98896838</td><td>0.4497085</td><td>1.000000e+00</td><td>0.9999759545</td><td>9.999946e-01</td><td>0.01322356</td><td>0.4624533</td><td>1.000000e+00</td></tr>\n",
       "\t<tr><th scope=row>prct MC</th><td>0.6335150</td><td>3.853211e-01</td><td>0.528000000</td><td>0.6072607</td><td> 4.217374e-01</td><td>3.783784e-01</td><td>0.73611111</td><td>0.6219512</td><td>0.7945205479</td><td>0.4444444</td><td>⋯</td><td>4.019608e-01</td><td>0.44897959</td><td>0.51260504</td><td>0.6174497</td><td>4.212963e-01</td><td>0.3731343284</td><td>3.648649e-01</td><td>0.73255814</td><td>0.6363636</td><td>2.828283e-01</td></tr>\n",
       "\t<tr><th scope=row>Is UC</th><td>0.0000000</td><td>1.000000e+00</td><td>1.000000000</td><td>0.0000000</td><td> 1.000000e+00</td><td>1.000000e+00</td><td>0.00000000</td><td>0.0000000</td><td>0.0000000000</td><td>0.0000000</td><td>⋯</td><td>1.000000e+00</td><td>1.00000000</td><td>1.00000000</td><td>0.0000000</td><td>1.000000e+00</td><td>1.0000000000</td><td>1.000000e+00</td><td>0.00000000</td><td>0.0000000</td><td>1.000000e+00</td></tr>\n",
       "\t<tr><th scope=row>Is MC</th><td>0.0000000</td><td>0.000000e+00</td><td>0.000000000</td><td>0.0000000</td><td> 0.000000e+00</td><td>0.000000e+00</td><td>1.00000000</td><td>0.0000000</td><td>1.0000000000</td><td>0.0000000</td><td>⋯</td><td>0.000000e+00</td><td>0.00000000</td><td>0.00000000</td><td>0.0000000</td><td>0.000000e+00</td><td>0.0000000000</td><td>0.000000e+00</td><td>1.00000000</td><td>0.0000000</td><td>0.000000e+00</td></tr>\n",
       "</tbody>\n",
       "</table>\n"
      ],
      "text/latex": [
       "A data.frame: 5 × 24\n",
       "\\begin{tabular}{r|lllllllllllllllllllll}\n",
       "  & brown & black & pink & red & blue & green & royalblue & greenyellow & darkgreen & grey & ⋯ & lightcyan & orange & salmon & cyan & magenta & darkred & lightgreen & lightyellow & skyblue & darkgrey\\\\\n",
       "  & <dbl> & <dbl> & <dbl> & <dbl> & <dbl> & <dbl> & <dbl> & <dbl> & <dbl> & <dbl> & ⋯ & <dbl> & <dbl> & <dbl> & <dbl> & <dbl> & <dbl> & <dbl> & <dbl> & <dbl> & <dbl>\\\\\n",
       "\\hline\n",
       "\tUC enrich pval & 0.8870344 & 2.053233e-16 & 0.004426228 & 0.4548710 & 1.058367e-125 & 4.554076e-21 & 0.99012892 & 0.6311240 & 0.9997315894 & 0.1130024 & ⋯ & 1.517546e-05 & 0.01517953 & 0.01767054 & 0.5973398 & 1.392468e-08 & 0.0000674157 & 1.548661e-05 & 0.99294324 & 0.6750255 & 3.707401e-11\\\\\n",
       "\tMC enrich pval & 0.1286023 & 1.000000e+00 & 0.996983636 & 0.5917612 &  1.000000e+00 & 1.000000e+00 & 0.01903247 & 0.4311708 & 0.0007022583 & 0.9536791 & ⋯ & 9.999938e-01 & 0.99289444 & 0.98896838 & 0.4497085 & 1.000000e+00 & 0.9999759545 & 9.999946e-01 & 0.01322356 & 0.4624533 & 1.000000e+00\\\\\n",
       "\tprct MC & 0.6335150 & 3.853211e-01 & 0.528000000 & 0.6072607 &  4.217374e-01 & 3.783784e-01 & 0.73611111 & 0.6219512 & 0.7945205479 & 0.4444444 & ⋯ & 4.019608e-01 & 0.44897959 & 0.51260504 & 0.6174497 & 4.212963e-01 & 0.3731343284 & 3.648649e-01 & 0.73255814 & 0.6363636 & 2.828283e-01\\\\\n",
       "\tIs UC & 0.0000000 & 1.000000e+00 & 1.000000000 & 0.0000000 &  1.000000e+00 & 1.000000e+00 & 0.00000000 & 0.0000000 & 0.0000000000 & 0.0000000 & ⋯ & 1.000000e+00 & 1.00000000 & 1.00000000 & 0.0000000 & 1.000000e+00 & 1.0000000000 & 1.000000e+00 & 0.00000000 & 0.0000000 & 1.000000e+00\\\\\n",
       "\tIs MC & 0.0000000 & 0.000000e+00 & 0.000000000 & 0.0000000 &  0.000000e+00 & 0.000000e+00 & 1.00000000 & 0.0000000 & 1.0000000000 & 0.0000000 & ⋯ & 0.000000e+00 & 0.00000000 & 0.00000000 & 0.0000000 & 0.000000e+00 & 0.0000000000 & 0.000000e+00 & 1.00000000 & 0.0000000 & 0.000000e+00\\\\\n",
       "\\end{tabular}\n"
      ],
      "text/markdown": [
       "\n",
       "A data.frame: 5 × 24\n",
       "\n",
       "| <!--/--> | brown &lt;dbl&gt; | black &lt;dbl&gt; | pink &lt;dbl&gt; | red &lt;dbl&gt; | blue &lt;dbl&gt; | green &lt;dbl&gt; | royalblue &lt;dbl&gt; | greenyellow &lt;dbl&gt; | darkgreen &lt;dbl&gt; | grey &lt;dbl&gt; | ⋯ ⋯ | lightcyan &lt;dbl&gt; | orange &lt;dbl&gt; | salmon &lt;dbl&gt; | cyan &lt;dbl&gt; | magenta &lt;dbl&gt; | darkred &lt;dbl&gt; | lightgreen &lt;dbl&gt; | lightyellow &lt;dbl&gt; | skyblue &lt;dbl&gt; | darkgrey &lt;dbl&gt; |\n",
       "|---|---|---|---|---|---|---|---|---|---|---|---|---|---|---|---|---|---|---|---|---|---|\n",
       "| UC enrich pval | 0.8870344 | 2.053233e-16 | 0.004426228 | 0.4548710 | 1.058367e-125 | 4.554076e-21 | 0.99012892 | 0.6311240 | 0.9997315894 | 0.1130024 | ⋯ | 1.517546e-05 | 0.01517953 | 0.01767054 | 0.5973398 | 1.392468e-08 | 0.0000674157 | 1.548661e-05 | 0.99294324 | 0.6750255 | 3.707401e-11 |\n",
       "| MC enrich pval | 0.1286023 | 1.000000e+00 | 0.996983636 | 0.5917612 |  1.000000e+00 | 1.000000e+00 | 0.01903247 | 0.4311708 | 0.0007022583 | 0.9536791 | ⋯ | 9.999938e-01 | 0.99289444 | 0.98896838 | 0.4497085 | 1.000000e+00 | 0.9999759545 | 9.999946e-01 | 0.01322356 | 0.4624533 | 1.000000e+00 |\n",
       "| prct MC | 0.6335150 | 3.853211e-01 | 0.528000000 | 0.6072607 |  4.217374e-01 | 3.783784e-01 | 0.73611111 | 0.6219512 | 0.7945205479 | 0.4444444 | ⋯ | 4.019608e-01 | 0.44897959 | 0.51260504 | 0.6174497 | 4.212963e-01 | 0.3731343284 | 3.648649e-01 | 0.73255814 | 0.6363636 | 2.828283e-01 |\n",
       "| Is UC | 0.0000000 | 1.000000e+00 | 1.000000000 | 0.0000000 |  1.000000e+00 | 1.000000e+00 | 0.00000000 | 0.0000000 | 0.0000000000 | 0.0000000 | ⋯ | 1.000000e+00 | 1.00000000 | 1.00000000 | 0.0000000 | 1.000000e+00 | 1.0000000000 | 1.000000e+00 | 0.00000000 | 0.0000000 | 1.000000e+00 |\n",
       "| Is MC | 0.0000000 | 0.000000e+00 | 0.000000000 | 0.0000000 |  0.000000e+00 | 0.000000e+00 | 1.00000000 | 0.0000000 | 1.0000000000 | 0.0000000 | ⋯ | 0.000000e+00 | 0.00000000 | 0.00000000 | 0.0000000 | 0.000000e+00 | 0.0000000000 | 0.000000e+00 | 1.00000000 | 0.0000000 | 0.000000e+00 |\n",
       "\n"
      ],
      "text/plain": [
       "               brown     black        pink        red       blue         \n",
       "UC enrich pval 0.8870344 2.053233e-16 0.004426228 0.4548710 1.058367e-125\n",
       "MC enrich pval 0.1286023 1.000000e+00 0.996983636 0.5917612  1.000000e+00\n",
       "prct MC        0.6335150 3.853211e-01 0.528000000 0.6072607  4.217374e-01\n",
       "Is UC          0.0000000 1.000000e+00 1.000000000 0.0000000  1.000000e+00\n",
       "Is MC          0.0000000 0.000000e+00 0.000000000 0.0000000  0.000000e+00\n",
       "               green        royalblue  greenyellow darkgreen    grey      ⋯\n",
       "UC enrich pval 4.554076e-21 0.99012892 0.6311240   0.9997315894 0.1130024 ⋯\n",
       "MC enrich pval 1.000000e+00 0.01903247 0.4311708   0.0007022583 0.9536791 ⋯\n",
       "prct MC        3.783784e-01 0.73611111 0.6219512   0.7945205479 0.4444444 ⋯\n",
       "Is UC          1.000000e+00 0.00000000 0.0000000   0.0000000000 0.0000000 ⋯\n",
       "Is MC          0.000000e+00 1.00000000 0.0000000   1.0000000000 0.0000000 ⋯\n",
       "               lightcyan    orange     salmon     cyan      magenta     \n",
       "UC enrich pval 1.517546e-05 0.01517953 0.01767054 0.5973398 1.392468e-08\n",
       "MC enrich pval 9.999938e-01 0.99289444 0.98896838 0.4497085 1.000000e+00\n",
       "prct MC        4.019608e-01 0.44897959 0.51260504 0.6174497 4.212963e-01\n",
       "Is UC          1.000000e+00 1.00000000 1.00000000 0.0000000 1.000000e+00\n",
       "Is MC          0.000000e+00 0.00000000 0.00000000 0.0000000 0.000000e+00\n",
       "               darkred      lightgreen   lightyellow skyblue   darkgrey    \n",
       "UC enrich pval 0.0000674157 1.548661e-05 0.99294324  0.6750255 3.707401e-11\n",
       "MC enrich pval 0.9999759545 9.999946e-01 0.01322356  0.4624533 1.000000e+00\n",
       "prct MC        0.3731343284 3.648649e-01 0.73255814  0.6363636 2.828283e-01\n",
       "Is UC          1.0000000000 1.000000e+00 0.00000000  0.0000000 1.000000e+00\n",
       "Is MC          0.0000000000 0.000000e+00 1.00000000  0.0000000 0.000000e+00"
      ]
     },
     "metadata": {},
     "output_type": "display_data"
    }
   ],
   "source": [
    "GBM.module.UC.MC.status"
   ]
  },
  {
   "cell_type": "markdown",
   "id": "42db8f90-c58e-48ca-bb56-48714d173fd4",
   "metadata": {},
   "source": [
    "#### Plot the Gini coefficients ordered by percentage of MC genes"
   ]
  },
  {
   "cell_type": "code",
   "execution_count": 22,
   "id": "d8d8858b-61b2-4dd5-864b-5dbfcf6d3be2",
   "metadata": {},
   "outputs": [
    {
     "name": "stderr",
     "output_type": "stream",
     "text": [
      "Warning message in xtfrm.data.frame(x):\n",
      "“cannot xtfrm data frames”\n"
     ]
    },
    {
     "data": {
      "image/png": "[encoded data removed]",
      "text/plain": [
       "plot without title"
      ]
     },
     "metadata": {
      "image/png": {
       "height": 420,
       "width": 420
      }
     },
     "output_type": "display_data"
    }
   ],
   "source": [
    "Gini.df.Mixed.ordered.by.prctMC <- t(Gini.df.Mixed)[,order(GBM.module.UC.MC.status[3,colnames(GBM.module.UC.MC.status) != \"grey\"])]\n",
    "\n",
    "boxplot(Gini.df.Mixed.ordered.by.prctMC, las=2, frame=F, ylab=\"Mean decrease in Gini coefficient\")  "
   ]
  },
  {
   "cell_type": "markdown",
   "id": "4570fca1-5588-4417-bc82-0746b1f7f2cf",
   "metadata": {},
   "source": [
    "#### Add age enrichment category to modules"
   ]
  },
  {
   "cell_type": "code",
   "execution_count": 23,
   "id": "b1877bbf-4f23-432e-bfd1-ea8fdc0bc9fd",
   "metadata": {},
   "outputs": [
    {
     "data": {
      "text/html": [
       "<table class=\"dataframe\">\n",
       "<caption>A matrix: 2 × 24 of type dbl</caption>\n",
       "<thead>\n",
       "\t<tr><th></th><th scope=col>brown</th><th scope=col>black</th><th scope=col>pink</th><th scope=col>red</th><th scope=col>blue</th><th scope=col>green</th><th scope=col>royalblue</th><th scope=col>greenyellow</th><th scope=col>darkgreen</th><th scope=col>grey</th><th scope=col>⋯</th><th scope=col>lightcyan</th><th scope=col>orange</th><th scope=col>salmon</th><th scope=col>cyan</th><th scope=col>magenta</th><th scope=col>darkred</th><th scope=col>lightgreen</th><th scope=col>lightyellow</th><th scope=col>skyblue</th><th scope=col>darkgrey</th></tr>\n",
       "</thead>\n",
       "<tbody>\n",
       "\t<tr><th scope=row>UC.padj</th><td>1</td><td>4.92776e-15</td><td>0.1062295</td><td>1</td><td>2.540081e-124</td><td>1.092978e-19</td><td>1.0000000</td><td>1</td><td>1.0000000</td><td>1</td><td>⋯</td><td>0.0003642111</td><td>0.3643087</td><td>0.424093</td><td>1</td><td>3.341923e-07</td><td>0.001617977</td><td>0.0003716785</td><td>1.0000000</td><td>1</td><td>8.897763e-10</td></tr>\n",
       "\t<tr><th scope=row>MC.padj</th><td>1</td><td>1.00000e+00</td><td>1.0000000</td><td>1</td><td> 1.000000e+00</td><td>1.000000e+00</td><td>0.4567792</td><td>1</td><td>0.0168542</td><td>1</td><td>⋯</td><td>1.0000000000</td><td>1.0000000</td><td>1.000000</td><td>1</td><td>1.000000e+00</td><td>1.000000000</td><td>1.0000000000</td><td>0.3173655</td><td>1</td><td>1.000000e+00</td></tr>\n",
       "</tbody>\n",
       "</table>\n"
      ],
      "text/latex": [
       "A matrix: 2 × 24 of type dbl\n",
       "\\begin{tabular}{r|lllllllllllllllllllll}\n",
       "  & brown & black & pink & red & blue & green & royalblue & greenyellow & darkgreen & grey & ⋯ & lightcyan & orange & salmon & cyan & magenta & darkred & lightgreen & lightyellow & skyblue & darkgrey\\\\\n",
       "\\hline\n",
       "\tUC.padj & 1 & 4.92776e-15 & 0.1062295 & 1 & 2.540081e-124 & 1.092978e-19 & 1.0000000 & 1 & 1.0000000 & 1 & ⋯ & 0.0003642111 & 0.3643087 & 0.424093 & 1 & 3.341923e-07 & 0.001617977 & 0.0003716785 & 1.0000000 & 1 & 8.897763e-10\\\\\n",
       "\tMC.padj & 1 & 1.00000e+00 & 1.0000000 & 1 &  1.000000e+00 & 1.000000e+00 & 0.4567792 & 1 & 0.0168542 & 1 & ⋯ & 1.0000000000 & 1.0000000 & 1.000000 & 1 & 1.000000e+00 & 1.000000000 & 1.0000000000 & 0.3173655 & 1 & 1.000000e+00\\\\\n",
       "\\end{tabular}\n"
      ],
      "text/markdown": [
       "\n",
       "A matrix: 2 × 24 of type dbl\n",
       "\n",
       "| <!--/--> | brown | black | pink | red | blue | green | royalblue | greenyellow | darkgreen | grey | ⋯ | lightcyan | orange | salmon | cyan | magenta | darkred | lightgreen | lightyellow | skyblue | darkgrey |\n",
       "|---|---|---|---|---|---|---|---|---|---|---|---|---|---|---|---|---|---|---|---|---|---|\n",
       "| UC.padj | 1 | 4.92776e-15 | 0.1062295 | 1 | 2.540081e-124 | 1.092978e-19 | 1.0000000 | 1 | 1.0000000 | 1 | ⋯ | 0.0003642111 | 0.3643087 | 0.424093 | 1 | 3.341923e-07 | 0.001617977 | 0.0003716785 | 1.0000000 | 1 | 8.897763e-10 |\n",
       "| MC.padj | 1 | 1.00000e+00 | 1.0000000 | 1 |  1.000000e+00 | 1.000000e+00 | 0.4567792 | 1 | 0.0168542 | 1 | ⋯ | 1.0000000000 | 1.0000000 | 1.000000 | 1 | 1.000000e+00 | 1.000000000 | 1.0000000000 | 0.3173655 | 1 | 1.000000e+00 |\n",
       "\n"
      ],
      "text/plain": [
       "        brown black       pink      red blue          green        royalblue\n",
       "UC.padj 1     4.92776e-15 0.1062295 1   2.540081e-124 1.092978e-19 1.0000000\n",
       "MC.padj 1     1.00000e+00 1.0000000 1    1.000000e+00 1.000000e+00 0.4567792\n",
       "        greenyellow darkgreen grey ⋯ lightcyan    orange    salmon   cyan\n",
       "UC.padj 1           1.0000000 1    ⋯ 0.0003642111 0.3643087 0.424093 1   \n",
       "MC.padj 1           0.0168542 1    ⋯ 1.0000000000 1.0000000 1.000000 1   \n",
       "        magenta      darkred     lightgreen   lightyellow skyblue darkgrey    \n",
       "UC.padj 3.341923e-07 0.001617977 0.0003716785 1.0000000   1       8.897763e-10\n",
       "MC.padj 1.000000e+00 1.000000000 1.0000000000 0.3173655   1       1.000000e+00"
      ]
     },
     "metadata": {},
     "output_type": "display_data"
    },
    {
     "data": {
      "text/html": [
       "<table class=\"dataframe\">\n",
       "<caption>A matrix: 2 × 24 of type dbl</caption>\n",
       "<thead>\n",
       "\t<tr><th></th><th scope=col>brown</th><th scope=col>black</th><th scope=col>pink</th><th scope=col>red</th><th scope=col>blue</th><th scope=col>green</th><th scope=col>royalblue</th><th scope=col>greenyellow</th><th scope=col>darkgreen</th><th scope=col>grey</th><th scope=col>⋯</th><th scope=col>lightcyan</th><th scope=col>orange</th><th scope=col>salmon</th><th scope=col>cyan</th><th scope=col>magenta</th><th scope=col>darkred</th><th scope=col>lightgreen</th><th scope=col>lightyellow</th><th scope=col>skyblue</th><th scope=col>darkgrey</th></tr>\n",
       "</thead>\n",
       "<tbody>\n",
       "\t<tr><th scope=row>UC.padj</th><td>1</td><td>4.92776e-15</td><td>0.1062295</td><td>1</td><td>2.540081e-124</td><td>1.092978e-19</td><td>1.0000000</td><td>1</td><td>1.0000000</td><td>1</td><td>⋯</td><td>0.0003642111</td><td>0.3643087</td><td>0.424093</td><td>1</td><td>3.341923e-07</td><td>0.001617977</td><td>0.0003716785</td><td>1.0000000</td><td>1</td><td>8.897763e-10</td></tr>\n",
       "\t<tr><th scope=row>MC.padj</th><td>1</td><td>1.00000e+00</td><td>1.0000000</td><td>1</td><td> 1.000000e+00</td><td>1.000000e+00</td><td>0.4567792</td><td>1</td><td>0.0168542</td><td>1</td><td>⋯</td><td>1.0000000000</td><td>1.0000000</td><td>1.000000</td><td>1</td><td>1.000000e+00</td><td>1.000000000</td><td>1.0000000000</td><td>0.3173655</td><td>1</td><td>1.000000e+00</td></tr>\n",
       "</tbody>\n",
       "</table>\n"
      ],
      "text/latex": [
       "A matrix: 2 × 24 of type dbl\n",
       "\\begin{tabular}{r|lllllllllllllllllllll}\n",
       "  & brown & black & pink & red & blue & green & royalblue & greenyellow & darkgreen & grey & ⋯ & lightcyan & orange & salmon & cyan & magenta & darkred & lightgreen & lightyellow & skyblue & darkgrey\\\\\n",
       "\\hline\n",
       "\tUC.padj & 1 & 4.92776e-15 & 0.1062295 & 1 & 2.540081e-124 & 1.092978e-19 & 1.0000000 & 1 & 1.0000000 & 1 & ⋯ & 0.0003642111 & 0.3643087 & 0.424093 & 1 & 3.341923e-07 & 0.001617977 & 0.0003716785 & 1.0000000 & 1 & 8.897763e-10\\\\\n",
       "\tMC.padj & 1 & 1.00000e+00 & 1.0000000 & 1 &  1.000000e+00 & 1.000000e+00 & 0.4567792 & 1 & 0.0168542 & 1 & ⋯ & 1.0000000000 & 1.0000000 & 1.000000 & 1 & 1.000000e+00 & 1.000000000 & 1.0000000000 & 0.3173655 & 1 & 1.000000e+00\\\\\n",
       "\\end{tabular}\n"
      ],
      "text/markdown": [
       "\n",
       "A matrix: 2 × 24 of type dbl\n",
       "\n",
       "| <!--/--> | brown | black | pink | red | blue | green | royalblue | greenyellow | darkgreen | grey | ⋯ | lightcyan | orange | salmon | cyan | magenta | darkred | lightgreen | lightyellow | skyblue | darkgrey |\n",
       "|---|---|---|---|---|---|---|---|---|---|---|---|---|---|---|---|---|---|---|---|---|---|\n",
       "| UC.padj | 1 | 4.92776e-15 | 0.1062295 | 1 | 2.540081e-124 | 1.092978e-19 | 1.0000000 | 1 | 1.0000000 | 1 | ⋯ | 0.0003642111 | 0.3643087 | 0.424093 | 1 | 3.341923e-07 | 0.001617977 | 0.0003716785 | 1.0000000 | 1 | 8.897763e-10 |\n",
       "| MC.padj | 1 | 1.00000e+00 | 1.0000000 | 1 |  1.000000e+00 | 1.000000e+00 | 0.4567792 | 1 | 0.0168542 | 1 | ⋯ | 1.0000000000 | 1.0000000 | 1.000000 | 1 | 1.000000e+00 | 1.000000000 | 1.0000000000 | 0.3173655 | 1 | 1.000000e+00 |\n",
       "\n"
      ],
      "text/plain": [
       "        brown black       pink      red blue          green        royalblue\n",
       "UC.padj 1     4.92776e-15 0.1062295 1   2.540081e-124 1.092978e-19 1.0000000\n",
       "MC.padj 1     1.00000e+00 1.0000000 1    1.000000e+00 1.000000e+00 0.4567792\n",
       "        greenyellow darkgreen grey ⋯ lightcyan    orange    salmon   cyan\n",
       "UC.padj 1           1.0000000 1    ⋯ 0.0003642111 0.3643087 0.424093 1   \n",
       "MC.padj 1           0.0168542 1    ⋯ 1.0000000000 1.0000000 1.000000 1   \n",
       "        magenta      darkred     lightgreen   lightyellow skyblue darkgrey    \n",
       "UC.padj 3.341923e-07 0.001617977 0.0003716785 1.0000000   1       8.897763e-10\n",
       "MC.padj 1.000000e+00 1.000000000 1.0000000000 0.3173655   1       1.000000e+00"
      ]
     },
     "metadata": {},
     "output_type": "display_data"
    }
   ],
   "source": [
    "#GBM.module.UC.MC.status[1,]\n",
    "\n",
    "#Apply Bonferroni correction to UC and MC gene enrichment p-values\n",
    "UC.padj <- vapply(GBM.module.UC.MC.status[1,], FUN= function(K) { min(1, K * ncol(GBM.module.UC.MC.status) ) }, 2)\n",
    "MC.padj <-vapply(GBM.module.UC.MC.status[2,], FUN= function(K) { min(1, K * ncol(GBM.module.UC.MC.status) ) }, 2)\n",
    "\n",
    "Age.Enrichments.GBM <- rbind( UC.padj , MC.padj )\n",
    "\n",
    "Age.Enrichments.GBM\n",
    "\n",
    "Age.Enrichments.GBM"
   ]
  },
  {
   "cell_type": "markdown",
   "id": "cf733999-623a-477e-a20a-0e8a7993e472",
   "metadata": {},
   "source": [
    "### Next order the modules by age enrichment category, THEN prct MC genes"
   ]
  },
  {
   "cell_type": "code",
   "execution_count": 24,
   "id": "0089c565-625d-480f-ac4b-9796138c9098",
   "metadata": {},
   "outputs": [
    {
     "data": {
      "text/html": [
       "<table class=\"dataframe\">\n",
       "<caption>A data.frame: 24 × 8</caption>\n",
       "<thead>\n",
       "\t<tr><th></th><th scope=col>tumour</th><th scope=col>tissue_type</th><th scope=col>cluster</th><th scope=col>p_UC_enrichment</th><th scope=col>p_MC_enrichment</th><th scope=col>p_UC_adj</th><th scope=col>p_MC_adj</th><th scope=col>Module_age</th></tr>\n",
       "\t<tr><th></th><th scope=col>&lt;chr&gt;</th><th scope=col>&lt;chr&gt;</th><th scope=col>&lt;chr&gt;</th><th scope=col>&lt;dbl&gt;</th><th scope=col>&lt;dbl&gt;</th><th scope=col>&lt;dbl&gt;</th><th scope=col>&lt;dbl&gt;</th><th scope=col>&lt;chr&gt;</th></tr>\n",
       "</thead>\n",
       "<tbody>\n",
       "\t<tr><th scope=row>1</th><td>GBM</td><td>tumour</td><td>brown      </td><td>1.000000e+00</td><td>2.905017e-19</td><td>1.000000e+00</td><td>6.972041e-18</td><td>MC   </td></tr>\n",
       "\t<tr><th scope=row>2</th><td>GBM</td><td>tumour</td><td>black      </td><td>3.267177e-03</td><td>9.977024e-01</td><td>1.960306e-02</td><td>9.999988e-01</td><td>UC   </td></tr>\n",
       "\t<tr><th scope=row>3</th><td>GBM</td><td>tumour</td><td>pink       </td><td>9.821299e-01</td><td>2.432649e-02</td><td>1.000000e+00</td><td>7.297948e-02</td><td>Mixed</td></tr>\n",
       "\t<tr><th scope=row>4</th><td>GBM</td><td>tumour</td><td>red        </td><td>9.999997e-01</td><td>4.783060e-07</td><td>1.000000e+00</td><td>2.295869e-06</td><td>MC   </td></tr>\n",
       "\t<tr><th scope=row>5</th><td>GBM</td><td>tumour</td><td>blue       </td><td>1.433115e-06</td><td>9.999988e-01</td><td>3.439475e-05</td><td>9.999988e-01</td><td>UC   </td></tr>\n",
       "\t<tr><th scope=row>6</th><td>GBM</td><td>tumour</td><td>green      </td><td>4.613751e-04</td><td>9.996826e-01</td><td>3.691001e-03</td><td>9.999988e-01</td><td>UC   </td></tr>\n",
       "\t<tr><th scope=row>7</th><td>GBM</td><td>tumour</td><td>royalblue  </td><td>9.999993e-01</td><td>2.516121e-06</td><td>1.000000e+00</td><td>1.006448e-05</td><td>MC   </td></tr>\n",
       "\t<tr><th scope=row>8</th><td>GBM</td><td>tumour</td><td>greenyellow</td><td>9.999821e-01</td><td>3.548685e-05</td><td>1.000000e+00</td><td>1.216692e-04</td><td>MC   </td></tr>\n",
       "\t<tr><th scope=row>9</th><td>GBM</td><td>tumour</td><td>darkgreen  </td><td>1.000000e+00</td><td>7.433296e-09</td><td>1.000000e+00</td><td>8.919955e-08</td><td>MC   </td></tr>\n",
       "\t<tr><th scope=row>10</th><td>GBM</td><td>tumour</td><td>grey       </td><td>5.342065e-01</td><td>6.502880e-01</td><td>9.157825e-01</td><td>9.999988e-01</td><td>Mixed</td></tr>\n",
       "\t<tr><th scope=row>11</th><td>GBM</td><td>tumour</td><td>white      </td><td>6.802401e-03</td><td>9.975406e-01</td><td>3.265153e-02</td><td>9.999988e-01</td><td>UC   </td></tr>\n",
       "\t<tr><th scope=row>12</th><td>GBM</td><td>tumour</td><td>darkorange </td><td>4.845207e-02</td><td>9.759619e-01</td><td>1.938083e-01</td><td>9.999988e-01</td><td>Mixed</td></tr>\n",
       "\t<tr><th scope=row>13</th><td>GBM</td><td>tumour</td><td>yellow     </td><td>3.020564e-01</td><td>7.343893e-01</td><td>6.041127e-01</td><td>9.999988e-01</td><td>Mixed</td></tr>\n",
       "\t<tr><th scope=row>14</th><td>GBM</td><td>tumour</td><td>purple     </td><td>2.776308e-01</td><td>7.712390e-01</td><td>6.041127e-01</td><td>9.999988e-01</td><td>Mixed</td></tr>\n",
       "\t<tr><th scope=row>15</th><td>GBM</td><td>tumour</td><td>lightcyan  </td><td>1.298168e-01</td><td>9.080372e-01</td><td>3.115604e-01</td><td>9.999988e-01</td><td>Mixed</td></tr>\n",
       "\t<tr><th scope=row>16</th><td>GBM</td><td>tumour</td><td>orange     </td><td>4.813934e-01</td><td>6.307695e-01</td><td>8.887263e-01</td><td>9.999988e-01</td><td>Mixed</td></tr>\n",
       "\t<tr><th scope=row>17</th><td>GBM</td><td>tumour</td><td>salmon     </td><td>8.797624e-01</td><td>1.612503e-01</td><td>1.000000e+00</td><td>3.870007e-01</td><td>Mixed</td></tr>\n",
       "\t<tr><th scope=row>18</th><td>GBM</td><td>tumour</td><td>cyan       </td><td>1.000000e+00</td><td>9.451972e-08</td><td>1.000000e+00</td><td>7.561578e-07</td><td>MC   </td></tr>\n",
       "\t<tr><th scope=row>19</th><td>GBM</td><td>tumour</td><td>magenta    </td><td>1.267786e-01</td><td>8.998295e-01</td><td>3.115604e-01</td><td>9.999988e-01</td><td>Mixed</td></tr>\n",
       "\t<tr><th scope=row>20</th><td>GBM</td><td>tumour</td><td>darkred    </td><td>8.881104e-02</td><td>9.449826e-01</td><td>2.664331e-01</td><td>9.999988e-01</td><td>Mixed</td></tr>\n",
       "\t<tr><th scope=row>21</th><td>GBM</td><td>tumour</td><td>lightgreen </td><td>5.781564e-02</td><td>9.649998e-01</td><td>1.982251e-01</td><td>9.999988e-01</td><td>Mixed</td></tr>\n",
       "\t<tr><th scope=row>22</th><td>GBM</td><td>tumour</td><td>lightyellow</td><td>9.999999e-01</td><td>3.964816e-07</td><td>1.000000e+00</td><td>2.295869e-06</td><td>MC   </td></tr>\n",
       "\t<tr><th scope=row>23</th><td>GBM</td><td>tumour</td><td>skyblue    </td><td>9.851809e-01</td><td>3.428009e-02</td><td>1.000000e+00</td><td>9.141358e-02</td><td>Mixed</td></tr>\n",
       "\t<tr><th scope=row>24</th><td>GBM</td><td>tumour</td><td>darkgrey   </td><td>2.025168e-04</td><td>9.999118e-01</td><td>2.430202e-03</td><td>9.999988e-01</td><td>UC   </td></tr>\n",
       "</tbody>\n",
       "</table>\n"
      ],
      "text/latex": [
       "A data.frame: 24 × 8\n",
       "\\begin{tabular}{r|llllllll}\n",
       "  & tumour & tissue\\_type & cluster & p\\_UC\\_enrichment & p\\_MC\\_enrichment & p\\_UC\\_adj & p\\_MC\\_adj & Module\\_age\\\\\n",
       "  & <chr> & <chr> & <chr> & <dbl> & <dbl> & <dbl> & <dbl> & <chr>\\\\\n",
       "\\hline\n",
       "\t1 & GBM & tumour & brown       & 1.000000e+00 & 2.905017e-19 & 1.000000e+00 & 6.972041e-18 & MC   \\\\\n",
       "\t2 & GBM & tumour & black       & 3.267177e-03 & 9.977024e-01 & 1.960306e-02 & 9.999988e-01 & UC   \\\\\n",
       "\t3 & GBM & tumour & pink        & 9.821299e-01 & 2.432649e-02 & 1.000000e+00 & 7.297948e-02 & Mixed\\\\\n",
       "\t4 & GBM & tumour & red         & 9.999997e-01 & 4.783060e-07 & 1.000000e+00 & 2.295869e-06 & MC   \\\\\n",
       "\t5 & GBM & tumour & blue        & 1.433115e-06 & 9.999988e-01 & 3.439475e-05 & 9.999988e-01 & UC   \\\\\n",
       "\t6 & GBM & tumour & green       & 4.613751e-04 & 9.996826e-01 & 3.691001e-03 & 9.999988e-01 & UC   \\\\\n",
       "\t7 & GBM & tumour & royalblue   & 9.999993e-01 & 2.516121e-06 & 1.000000e+00 & 1.006448e-05 & MC   \\\\\n",
       "\t8 & GBM & tumour & greenyellow & 9.999821e-01 & 3.548685e-05 & 1.000000e+00 & 1.216692e-04 & MC   \\\\\n",
       "\t9 & GBM & tumour & darkgreen   & 1.000000e+00 & 7.433296e-09 & 1.000000e+00 & 8.919955e-08 & MC   \\\\\n",
       "\t10 & GBM & tumour & grey        & 5.342065e-01 & 6.502880e-01 & 9.157825e-01 & 9.999988e-01 & Mixed\\\\\n",
       "\t11 & GBM & tumour & white       & 6.802401e-03 & 9.975406e-01 & 3.265153e-02 & 9.999988e-01 & UC   \\\\\n",
       "\t12 & GBM & tumour & darkorange  & 4.845207e-02 & 9.759619e-01 & 1.938083e-01 & 9.999988e-01 & Mixed\\\\\n",
       "\t13 & GBM & tumour & yellow      & 3.020564e-01 & 7.343893e-01 & 6.041127e-01 & 9.999988e-01 & Mixed\\\\\n",
       "\t14 & GBM & tumour & purple      & 2.776308e-01 & 7.712390e-01 & 6.041127e-01 & 9.999988e-01 & Mixed\\\\\n",
       "\t15 & GBM & tumour & lightcyan   & 1.298168e-01 & 9.080372e-01 & 3.115604e-01 & 9.999988e-01 & Mixed\\\\\n",
       "\t16 & GBM & tumour & orange      & 4.813934e-01 & 6.307695e-01 & 8.887263e-01 & 9.999988e-01 & Mixed\\\\\n",
       "\t17 & GBM & tumour & salmon      & 8.797624e-01 & 1.612503e-01 & 1.000000e+00 & 3.870007e-01 & Mixed\\\\\n",
       "\t18 & GBM & tumour & cyan        & 1.000000e+00 & 9.451972e-08 & 1.000000e+00 & 7.561578e-07 & MC   \\\\\n",
       "\t19 & GBM & tumour & magenta     & 1.267786e-01 & 8.998295e-01 & 3.115604e-01 & 9.999988e-01 & Mixed\\\\\n",
       "\t20 & GBM & tumour & darkred     & 8.881104e-02 & 9.449826e-01 & 2.664331e-01 & 9.999988e-01 & Mixed\\\\\n",
       "\t21 & GBM & tumour & lightgreen  & 5.781564e-02 & 9.649998e-01 & 1.982251e-01 & 9.999988e-01 & Mixed\\\\\n",
       "\t22 & GBM & tumour & lightyellow & 9.999999e-01 & 3.964816e-07 & 1.000000e+00 & 2.295869e-06 & MC   \\\\\n",
       "\t23 & GBM & tumour & skyblue     & 9.851809e-01 & 3.428009e-02 & 1.000000e+00 & 9.141358e-02 & Mixed\\\\\n",
       "\t24 & GBM & tumour & darkgrey    & 2.025168e-04 & 9.999118e-01 & 2.430202e-03 & 9.999988e-01 & UC   \\\\\n",
       "\\end{tabular}\n"
      ],
      "text/markdown": [
       "\n",
       "A data.frame: 24 × 8\n",
       "\n",
       "| <!--/--> | tumour &lt;chr&gt; | tissue_type &lt;chr&gt; | cluster &lt;chr&gt; | p_UC_enrichment &lt;dbl&gt; | p_MC_enrichment &lt;dbl&gt; | p_UC_adj &lt;dbl&gt; | p_MC_adj &lt;dbl&gt; | Module_age &lt;chr&gt; |\n",
       "|---|---|---|---|---|---|---|---|---|\n",
       "| 1 | GBM | tumour | brown       | 1.000000e+00 | 2.905017e-19 | 1.000000e+00 | 6.972041e-18 | MC    |\n",
       "| 2 | GBM | tumour | black       | 3.267177e-03 | 9.977024e-01 | 1.960306e-02 | 9.999988e-01 | UC    |\n",
       "| 3 | GBM | tumour | pink        | 9.821299e-01 | 2.432649e-02 | 1.000000e+00 | 7.297948e-02 | Mixed |\n",
       "| 4 | GBM | tumour | red         | 9.999997e-01 | 4.783060e-07 | 1.000000e+00 | 2.295869e-06 | MC    |\n",
       "| 5 | GBM | tumour | blue        | 1.433115e-06 | 9.999988e-01 | 3.439475e-05 | 9.999988e-01 | UC    |\n",
       "| 6 | GBM | tumour | green       | 4.613751e-04 | 9.996826e-01 | 3.691001e-03 | 9.999988e-01 | UC    |\n",
       "| 7 | GBM | tumour | royalblue   | 9.999993e-01 | 2.516121e-06 | 1.000000e+00 | 1.006448e-05 | MC    |\n",
       "| 8 | GBM | tumour | greenyellow | 9.999821e-01 | 3.548685e-05 | 1.000000e+00 | 1.216692e-04 | MC    |\n",
       "| 9 | GBM | tumour | darkgreen   | 1.000000e+00 | 7.433296e-09 | 1.000000e+00 | 8.919955e-08 | MC    |\n",
       "| 10 | GBM | tumour | grey        | 5.342065e-01 | 6.502880e-01 | 9.157825e-01 | 9.999988e-01 | Mixed |\n",
       "| 11 | GBM | tumour | white       | 6.802401e-03 | 9.975406e-01 | 3.265153e-02 | 9.999988e-01 | UC    |\n",
       "| 12 | GBM | tumour | darkorange  | 4.845207e-02 | 9.759619e-01 | 1.938083e-01 | 9.999988e-01 | Mixed |\n",
       "| 13 | GBM | tumour | yellow      | 3.020564e-01 | 7.343893e-01 | 6.041127e-01 | 9.999988e-01 | Mixed |\n",
       "| 14 | GBM | tumour | purple      | 2.776308e-01 | 7.712390e-01 | 6.041127e-01 | 9.999988e-01 | Mixed |\n",
       "| 15 | GBM | tumour | lightcyan   | 1.298168e-01 | 9.080372e-01 | 3.115604e-01 | 9.999988e-01 | Mixed |\n",
       "| 16 | GBM | tumour | orange      | 4.813934e-01 | 6.307695e-01 | 8.887263e-01 | 9.999988e-01 | Mixed |\n",
       "| 17 | GBM | tumour | salmon      | 8.797624e-01 | 1.612503e-01 | 1.000000e+00 | 3.870007e-01 | Mixed |\n",
       "| 18 | GBM | tumour | cyan        | 1.000000e+00 | 9.451972e-08 | 1.000000e+00 | 7.561578e-07 | MC    |\n",
       "| 19 | GBM | tumour | magenta     | 1.267786e-01 | 8.998295e-01 | 3.115604e-01 | 9.999988e-01 | Mixed |\n",
       "| 20 | GBM | tumour | darkred     | 8.881104e-02 | 9.449826e-01 | 2.664331e-01 | 9.999988e-01 | Mixed |\n",
       "| 21 | GBM | tumour | lightgreen  | 5.781564e-02 | 9.649998e-01 | 1.982251e-01 | 9.999988e-01 | Mixed |\n",
       "| 22 | GBM | tumour | lightyellow | 9.999999e-01 | 3.964816e-07 | 1.000000e+00 | 2.295869e-06 | MC    |\n",
       "| 23 | GBM | tumour | skyblue     | 9.851809e-01 | 3.428009e-02 | 1.000000e+00 | 9.141358e-02 | Mixed |\n",
       "| 24 | GBM | tumour | darkgrey    | 2.025168e-04 | 9.999118e-01 | 2.430202e-03 | 9.999988e-01 | UC    |\n",
       "\n"
      ],
      "text/plain": [
       "   tumour tissue_type cluster     p_UC_enrichment p_MC_enrichment p_UC_adj    \n",
       "1  GBM    tumour      brown       1.000000e+00    2.905017e-19    1.000000e+00\n",
       "2  GBM    tumour      black       3.267177e-03    9.977024e-01    1.960306e-02\n",
       "3  GBM    tumour      pink        9.821299e-01    2.432649e-02    1.000000e+00\n",
       "4  GBM    tumour      red         9.999997e-01    4.783060e-07    1.000000e+00\n",
       "5  GBM    tumour      blue        1.433115e-06    9.999988e-01    3.439475e-05\n",
       "6  GBM    tumour      green       4.613751e-04    9.996826e-01    3.691001e-03\n",
       "7  GBM    tumour      royalblue   9.999993e-01    2.516121e-06    1.000000e+00\n",
       "8  GBM    tumour      greenyellow 9.999821e-01    3.548685e-05    1.000000e+00\n",
       "9  GBM    tumour      darkgreen   1.000000e+00    7.433296e-09    1.000000e+00\n",
       "10 GBM    tumour      grey        5.342065e-01    6.502880e-01    9.157825e-01\n",
       "11 GBM    tumour      white       6.802401e-03    9.975406e-01    3.265153e-02\n",
       "12 GBM    tumour      darkorange  4.845207e-02    9.759619e-01    1.938083e-01\n",
       "13 GBM    tumour      yellow      3.020564e-01    7.343893e-01    6.041127e-01\n",
       "14 GBM    tumour      purple      2.776308e-01    7.712390e-01    6.041127e-01\n",
       "15 GBM    tumour      lightcyan   1.298168e-01    9.080372e-01    3.115604e-01\n",
       "16 GBM    tumour      orange      4.813934e-01    6.307695e-01    8.887263e-01\n",
       "17 GBM    tumour      salmon      8.797624e-01    1.612503e-01    1.000000e+00\n",
       "18 GBM    tumour      cyan        1.000000e+00    9.451972e-08    1.000000e+00\n",
       "19 GBM    tumour      magenta     1.267786e-01    8.998295e-01    3.115604e-01\n",
       "20 GBM    tumour      darkred     8.881104e-02    9.449826e-01    2.664331e-01\n",
       "21 GBM    tumour      lightgreen  5.781564e-02    9.649998e-01    1.982251e-01\n",
       "22 GBM    tumour      lightyellow 9.999999e-01    3.964816e-07    1.000000e+00\n",
       "23 GBM    tumour      skyblue     9.851809e-01    3.428009e-02    1.000000e+00\n",
       "24 GBM    tumour      darkgrey    2.025168e-04    9.999118e-01    2.430202e-03\n",
       "   p_MC_adj     Module_age\n",
       "1  6.972041e-18 MC        \n",
       "2  9.999988e-01 UC        \n",
       "3  7.297948e-02 Mixed     \n",
       "4  2.295869e-06 MC        \n",
       "5  9.999988e-01 UC        \n",
       "6  9.999988e-01 UC        \n",
       "7  1.006448e-05 MC        \n",
       "8  1.216692e-04 MC        \n",
       "9  8.919955e-08 MC        \n",
       "10 9.999988e-01 Mixed     \n",
       "11 9.999988e-01 UC        \n",
       "12 9.999988e-01 Mixed     \n",
       "13 9.999988e-01 Mixed     \n",
       "14 9.999988e-01 Mixed     \n",
       "15 9.999988e-01 Mixed     \n",
       "16 9.999988e-01 Mixed     \n",
       "17 3.870007e-01 Mixed     \n",
       "18 7.561578e-07 MC        \n",
       "19 9.999988e-01 Mixed     \n",
       "20 9.999988e-01 Mixed     \n",
       "21 9.999988e-01 Mixed     \n",
       "22 2.295869e-06 MC        \n",
       "23 9.141358e-02 Mixed     \n",
       "24 9.999988e-01 UC        "
      ]
     },
     "metadata": {},
     "output_type": "display_data"
    }
   ],
   "source": [
    "Age.Enrichments.GBM <- read.table(\"Age Enrichments GBM.txt\", head=T, sep=\"\\t\")\n",
    "Age.Enrichments.GBM"
   ]
  },
  {
   "cell_type": "markdown",
   "id": "47569a45-f72d-4d3d-ba48-ae67f8499f6b",
   "metadata": {
    "tags": []
   },
   "source": [
    "#### Order the Modules by assigned age category"
   ]
  },
  {
   "cell_type": "code",
   "execution_count": 25,
   "id": "13b6e56f-a0a0-4d48-8b26-076536f66989",
   "metadata": {},
   "outputs": [],
   "source": [
    "Gini.df.Mixed.ordered.by.age.en <- Gini.df.Mixed.ordered.by.prctMC[ , colnames(Gini.df.Mixed.ordered.by.prctMC) %in% filter(Age.Enrichments.GBM, Module_age==\"UC\")$cluster ]\n",
    "\n",
    "rownames(Gini.df.Mixed.ordered.by.age.en) <- c(1:100)\n",
    "\n",
    "Gini.df.Mixed.ordered.by.age.en <- \n",
    "  cbind( Gini.df.Mixed.ordered.by.age.en, \n",
    "       Gini.df.Mixed.ordered.by.prctMC[ , colnames(Gini.df.Mixed.ordered.by.prctMC) %in% filter(Age.Enrichments.GBM, Module_age==\"Mixed\")$cluster ]\n",
    "  )       \n",
    "\n",
    "Gini.df.Mixed.ordered.by.age.en <- \n",
    "  cbind( Gini.df.Mixed.ordered.by.age.en, \n",
    "         Gini.df.Mixed.ordered.by.prctMC[ , colnames(Gini.df.Mixed.ordered.by.prctMC) %in% filter(Age.Enrichments.GBM, Module_age==\"MC\")$cluster ]\n",
    "  )       "
   ]
  },
  {
   "cell_type": "markdown",
   "id": "12c313e7-fe33-4330-ad95-8e37b2d48f48",
   "metadata": {},
   "source": [
    "#### Now plot Ginis, coloured by age enrichment"
   ]
  },
  {
   "cell_type": "code",
   "execution_count": 37,
   "id": "a703ff7f-f3d0-4468-bff3-b7cba1130cd1",
   "metadata": {},
   "outputs": [
    {
     "data": {
      "text/html": [
       "<strong>png:</strong> 2"
      ],
      "text/latex": [
       "\\textbf{png:} 2"
      ],
      "text/markdown": [
       "**png:** 2"
      ],
      "text/plain": [
       "png \n",
       "  2 "
      ]
     },
     "metadata": {},
     "output_type": "display_data"
    }
   ],
   "source": [
    "pdf(\"Fig 4G.pdf\", width=6, height=4)\n",
    "\n",
    "par(mar=c(6, 4, 3, 2) + 0.1)\n",
    "boxplot(Gini.df.Mixed.ordered.by.age.en, las=2, frame=F, ylab=\"Mean decrease in Gini coefficient\", col=c(rep(\"tomato\",5),rep(\"lightgreen\",11), rep(\"skyblue\",7)), ylim=c(0,30))\n",
    "legend( 0, 30, fill=c('#F8766D', '#00BA38', '#619CFF' ), legend=c(\"UC-enriched\", \"Mixed UC-MC\", \"MC-enriched\"), bty=\"n\", horiz=T, cex=1.2 )\n",
    "\n",
    "dev.off()"
   ]
  },
  {
   "cell_type": "code",
   "execution_count": null,
   "id": "511c5d5b-2b4a-4287-aa12-b9d464bcf757",
   "metadata": {},
   "outputs": [],
   "source": []
  },
  {
   "cell_type": "code",
   "execution_count": null,
   "id": "72f97cbf-8631-4122-906d-990917917a63",
   "metadata": {},
   "outputs": [],
   "source": []
  }
 ],
 "metadata": {
  "kernelspec": {
   "display_name": "R",
   "language": "R",
   "name": "ir"
  },
  "language_info": {
   "codemirror_mode": "r",
   "file_extension": ".r",
   "mimetype": "text/x-r-source",
   "name": "R",
   "pygments_lexer": "r",
   "version": "4.1.2"
  }
 },
 "nbformat": 4,
 "nbformat_minor": 5
}
