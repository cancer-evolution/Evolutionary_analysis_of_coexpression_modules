{
 "cells": [
  {
   "cell_type": "code",
   "execution_count": 1,
   "id": "40aad47f-39d4-41f3-ace0-2a9b8e762dff",
   "metadata": {},
   "outputs": [],
   "source": [
    "setwd(\"/scratch/cloudstor/Modules Paper/Sept 2022/October version/Scripts Anna January 2023/Figure 3G\")"
   ]
  },
  {
   "cell_type": "code",
   "execution_count": 2,
   "id": "6a0ebf54-baab-4503-9752-3fb078bccfe5",
   "metadata": {},
   "outputs": [],
   "source": [
    "#install.packages(\"circlize\", lib=\".\")"
   ]
  },
  {
   "cell_type": "code",
   "execution_count": 3,
   "id": "bee8433a-a881-4541-a3ca-dad568668895",
   "metadata": {},
   "outputs": [
    {
     "name": "stderr",
     "output_type": "stream",
     "text": [
      "\n",
      "Attaching package: ‘dplyr’\n",
      "\n",
      "\n",
      "The following objects are masked from ‘package:stats’:\n",
      "\n",
      "    filter, lag\n",
      "\n",
      "\n",
      "The following objects are masked from ‘package:base’:\n",
      "\n",
      "    intersect, setdiff, setequal, union\n",
      "\n",
      "\n"
     ]
    }
   ],
   "source": [
    "library(dplyr)\n",
    "#?library"
   ]
  },
  {
   "cell_type": "code",
   "execution_count": 4,
   "id": "292861a7-2378-414c-9d5c-e278476dac40",
   "metadata": {},
   "outputs": [
    {
     "name": "stderr",
     "output_type": "stream",
     "text": [
      "========================================\n",
      "circlize version 0.4.15\n",
      "CRAN page: https://cran.r-project.org/package=circlize\n",
      "Github page: https://github.com/jokergoo/circlize\n",
      "Documentation: https://jokergoo.github.io/circlize_book/book/\n",
      "\n",
      "If you use it in published research, please cite:\n",
      "Gu, Z. circlize implements and enhances circular visualization\n",
      "  in R. Bioinformatics 2014.\n",
      "\n",
      "This message can be suppressed by:\n",
      "  suppressPackageStartupMessages(library(circlize))\n",
      "========================================\n",
      "\n",
      "\n"
     ]
    }
   ],
   "source": [
    "#install.packages(\"circlize\", lib=\".\")\n",
    "\n",
    "library(circlize, lib.loc=\".\")"
   ]
  },
  {
   "cell_type": "markdown",
   "id": "ecb9f424-e99b-4145-bfcc-6219fb81ceb2",
   "metadata": {},
   "source": [
    "### First get the top 100 most highly connected genes in the LGG purple module\n",
    "\n",
    "Load in data on WGCNA modules from the LGG cohort"
   ]
  },
  {
   "cell_type": "code",
   "execution_count": 5,
   "id": "dafa2765-2992-4d82-a2ca-0d29667092ca",
   "metadata": {},
   "outputs": [],
   "source": [
    "load(\"Subnetworks_LGG_tumour.Rdata\")"
   ]
  },
  {
   "cell_type": "code",
   "execution_count": 6,
   "id": "b6aadf4b-eeb8-49a6-a73a-aa3421bc4384",
   "metadata": {},
   "outputs": [
    {
     "data": {
      "text/html": [
       "'sub_networks'"
      ],
      "text/latex": [
       "'sub\\_networks'"
      ],
      "text/markdown": [
       "'sub_networks'"
      ],
      "text/plain": [
       "[1] \"sub_networks\""
      ]
     },
     "metadata": {},
     "output_type": "display_data"
    }
   ],
   "source": [
    "ls()"
   ]
  },
  {
   "cell_type": "markdown",
   "id": "d9e06296-24af-4048-b126-72753ca528ce",
   "metadata": {},
   "source": [
    "#### get the Purple module\n",
    "\n",
    "##### Then Set lower half of matrix to"
   ]
  },
  {
   "cell_type": "code",
   "execution_count": 7,
   "id": "5464fb29-bd3c-4b12-855a-3c103ae3ae43",
   "metadata": {},
   "outputs": [],
   "source": [
    "purple_module <- sub_networks$tumour$LGG$purple\n",
    "\n",
    "### C5orf62 is a top connected gene that should become SMIM3 to match the genome bed file\n",
    "colnames(purple_module)[ grep(\"C5orf\", colnames(purple_module)) ] <- \"SMIM3\"\n",
    "rownames(purple_module)[ grep(\"C5orf\", rownames(purple_module)) ] <- \"SMIM3\"\n",
    "\n",
    "diag(purple_module) <- 0\n",
    "purple_module[ lower.tri(purple_module) ] <- 0"
   ]
  },
  {
   "cell_type": "markdown",
   "id": "d4710377-76b8-4cd1-be83-0782e0f14953",
   "metadata": {},
   "source": [
    "### Get the top 100 most strongly connected pairs of genes in the networks"
   ]
  },
  {
   "cell_type": "code",
   "execution_count": 8,
   "id": "1ffb9381-97b2-44b9-84ae-1eb5199ed24d",
   "metadata": {},
   "outputs": [],
   "source": [
    "top.connections <- head(sort(as.vector(purple_module[ upper.tri(purple_module) ]), decreasing = T) ,100)\n",
    "\n",
    "top100 <- which(purple_module >= top.connections[100], arr.ind = TRUE)\n",
    "\n",
    "top100.pairs.purple <- cbind( rownames(top100), colnames(purple_module)[ top100[,2] ] )\n"
   ]
  },
  {
   "cell_type": "markdown",
   "id": "fc84a50d-7cd8-4de3-94a3-11f3985b074a",
   "metadata": {},
   "source": [
    "### Find the top connections for EGFR"
   ]
  },
  {
   "cell_type": "code",
   "execution_count": 9,
   "id": "7858d1b5-6956-45b1-beb8-e7f425a6b770",
   "metadata": {},
   "outputs": [
    {
     "data": {
      "text/html": [
       "75"
      ],
      "text/latex": [
       "75"
      ],
      "text/markdown": [
       "75"
      ],
      "text/plain": [
       "[1] 75"
      ]
     },
     "metadata": {},
     "output_type": "display_data"
    }
   ],
   "source": [
    "grep(\"EGFR\", rownames(purple_module))\n",
    "\n",
    "top50.EGFR.links <- head(sort(c(purple_module[75,],purple_module[,75]), decreasing = T), 50)\n",
    "\n",
    "top50.EGFR.links <- cbind(names(top50.EGFR.links), rep(\"EGFR\",50), top50.EGFR.links ) "
   ]
  },
  {
   "cell_type": "markdown",
   "id": "d8a6f293-8f6d-480a-af2e-688770f91299",
   "metadata": {},
   "source": [
    "### Now get genome co-ordinates of genes in purple module:"
   ]
  },
  {
   "cell_type": "code",
   "execution_count": 10,
   "id": "e3327eb3-28cb-43aa-a3e4-89d26fe6f831",
   "metadata": {},
   "outputs": [],
   "source": [
    "hg19_bed <- read.table(\"Homo_sapiens.GRCh37.87.genes.bed\", sep=\"\\t\")"
   ]
  },
  {
   "cell_type": "code",
   "execution_count": 11,
   "id": "8e1d6588-27e5-4072-9efd-cdcddffbd777",
   "metadata": {},
   "outputs": [],
   "source": [
    "purple_hg19_bed <- hg19_bed[ hg19_bed$V9 %in% colnames(purple_module) , c(1,4,5,9)]\n",
    "purple_hg19_bed[,1] <- paste(\"chr\",purple_hg19_bed[,1], sep=\"\")\n",
    "colnames(purple_hg19_bed) <- c(\"Chr\",\"Start\",\"End\",\"Gene\")"
   ]
  },
  {
   "cell_type": "markdown",
   "id": "1d3c7aa9-0915-4a4b-b30a-864cb3f52b57",
   "metadata": {},
   "source": [
    "### Add phylostrata data for each gene"
   ]
  },
  {
   "cell_type": "code",
   "execution_count": 12,
   "id": "d167dd6b-6bb8-453d-9d92-5ca756346eef",
   "metadata": {},
   "outputs": [],
   "source": [
    "Bckgrd.phylo <- read.csv(\"Phylostrata_PNAS.txt\")"
   ]
  },
  {
   "cell_type": "code",
   "execution_count": 13,
   "id": "22cacf6b-ee4c-48e0-9817-0af5fe43744c",
   "metadata": {},
   "outputs": [],
   "source": [
    "purple_hg19_bed.wPhylo <- inner_join(x=purple_hg19_bed, y=Bckgrd.phylo, by=c(\"Gene\"=\"GeneID\"), keep=T)"
   ]
  },
  {
   "cell_type": "markdown",
   "id": "a09dfce1-e79c-4419-aa16-3e9d86f817e1",
   "metadata": {},
   "source": [
    "### Functions for assigning genes as unicellular (UC) or multicellular (MC)"
   ]
  },
  {
   "cell_type": "code",
   "execution_count": 14,
   "id": "d3318f62-689d-4e41-b6ad-a026e93dd516",
   "metadata": {},
   "outputs": [],
   "source": [
    "color.by.age <- function(phylostratum) { \n",
    "  \n",
    "  if (phylostratum <= 0 )  { return(\"NA\") }\n",
    "  \n",
    "  if( is.na(phylostratum) ) { return(\"gray\"); }\n",
    "  \n",
    "  if( phylostratum <= 3 ) { return(\"red\") }\n",
    "  \n",
    "  else { return(\"blue\") }\n",
    "}"
   ]
  },
  {
   "cell_type": "code",
   "execution_count": 15,
   "id": "f083f491-bf5b-4f6e-beff-d2be93bfaa6d",
   "metadata": {},
   "outputs": [],
   "source": [
    "### Give genes a value according to UC or MC status\n",
    "value.by.UC.MC <- function(phylostratum) { \n",
    "  \n",
    "  if (phylostratum <= 0 )  { return(NA) }\n",
    "  \n",
    "  if( is.na(phylostratum) ) { return(NA); }\n",
    "  \n",
    "  if( phylostratum <= 3 ) { return(0) }\n",
    "  \n",
    "  else { return(1) }\n",
    "}"
   ]
  },
  {
   "cell_type": "code",
   "execution_count": 16,
   "id": "a2785b66-c014-456f-8a7d-03fd432b3f71",
   "metadata": {},
   "outputs": [],
   "source": [
    "name.UC.MC <- function(phylostratum) { \n",
    "  \n",
    "  if (phylostratum <= 0 )  { return(\"None\") }\n",
    "  \n",
    "  if( is.na(phylostratum) ) { return(\"None\"); }\n",
    "  \n",
    "  if( phylostratum <= 3 ) { return(\"Unicellular\") }\n",
    "  \n",
    "  else { return(\"Multicellular\") }\n",
    "}"
   ]
  },
  {
   "cell_type": "markdown",
   "id": "fd914d0c-11d1-4bb0-9336-c98f86283473",
   "metadata": {},
   "source": [
    "### Add UC/MC status to BED"
   ]
  },
  {
   "cell_type": "code",
   "execution_count": 17,
   "id": "2264acf2-b114-44e1-8bd0-359e85676fca",
   "metadata": {},
   "outputs": [],
   "source": [
    "purple_hg19_bed.wPhylo <- cbind( purple_hg19_bed.wPhylo, \"Is.Multicellular\"=vapply( purple_hg19_bed.wPhylo$Phylostrata, \n",
    "                                                                             FUN=value.by.UC.MC, FUN.VALUE=-1 ),\n",
    "                                 \"Type\"=vapply( purple_hg19_bed.wPhylo$Phylostrata, FUN=name.UC.MC, FUN.VALUE=\"NA\" )\n",
    ")"
   ]
  },
  {
   "cell_type": "markdown",
   "id": "a922b8bd-3906-4b9a-bc4a-daae5ccfcd2f",
   "metadata": {},
   "source": [
    "### Prepare objects for CIRCOS plot"
   ]
  },
  {
   "cell_type": "code",
   "execution_count": 18,
   "id": "75552355-483a-404b-b4ed-00775331566f",
   "metadata": {},
   "outputs": [],
   "source": [
    "g.info <- filter(purple_hg19_bed.wPhylo,Gene %in% c(\"EGFR\",\"ERBB2\",\"CLIC1\",\"MYL12A\") )"
   ]
  },
  {
   "cell_type": "markdown",
   "id": "09fd4dc7-17f5-42a4-b661-ba290a0b5fd5",
   "metadata": {},
   "source": [
    "#### Get the coordinates of the genes in first column of the top 100 strongest connected pairs"
   ]
  },
  {
   "cell_type": "code",
   "execution_count": 19,
   "id": "1b03c4f3-dddc-4960-bf00-4ec3be057021",
   "metadata": {},
   "outputs": [],
   "source": [
    "GeneA_locs <- apply( top100.pairs.purple, 1, FUN=function(ROW) {\n",
    "  filter(purple_hg19_bed , Gene==ROW[1])[c(1:4)]\n",
    "}  )\n",
    "\n",
    "GeneA_locs_bed <- do.call(rbind, GeneA_locs)"
   ]
  },
  {
   "cell_type": "markdown",
   "id": "c4c7c3f0-c8c9-4f89-b9a0-cc02da8864d8",
   "metadata": {},
   "source": [
    "### Get the coordinates of the genes in second column of the top 100 strongest connected pairs"
   ]
  },
  {
   "cell_type": "code",
   "execution_count": 20,
   "id": "d541ecba-5307-4ca1-a673-2519e06e766d",
   "metadata": {},
   "outputs": [],
   "source": [
    "GeneB_locs <- apply( top100.pairs.purple, 1, FUN=function(ROW) {\n",
    "  filter(purple_hg19_bed, Gene==ROW[2])[c(1:4)]\n",
    "}  )\n",
    "\n",
    "GeneB_locs_bed <- do.call(rbind, GeneB_locs)"
   ]
  },
  {
   "cell_type": "markdown",
   "id": "9f7cd5b5-e073-42a8-ac49-2d4b84cdf4ad",
   "metadata": {},
   "source": [
    "#### Reorder columns of BED file of top 100 pairs to fit with circlize's functions"
   ]
  },
  {
   "cell_type": "code",
   "execution_count": 21,
   "id": "7023c112-08fc-4aad-bbc4-6fe8b3349384",
   "metadata": {},
   "outputs": [],
   "source": [
    "bed=purple_hg19_bed.wPhylo[,c(1:3,8,7,9,4)]"
   ]
  },
  {
   "cell_type": "markdown",
   "id": "fdc15af2-7553-412b-999d-a48364ce78ab",
   "metadata": {},
   "source": [
    "### Make a BED with the strongest connections to EGFR"
   ]
  },
  {
   "cell_type": "code",
   "execution_count": 22,
   "id": "78c3c5fb-796c-425a-a865-5e1b9a5ba5dd",
   "metadata": {},
   "outputs": [],
   "source": [
    "## Get locations of top 50 co-expression partners of EGFR\n",
    "EGRF_partner_locs <- apply( top50.EGFR.links, 1, FUN=function(ROW) {\n",
    "  filter(purple_hg19_bed, Gene==ROW[1])\n",
    "}  )\n",
    "\n",
    "EGRF_partner_locs_bed <- do.call(rbind, EGRF_partner_locs)\n",
    "\n",
    "EGRF_locs <- apply( top50.EGFR.links, 1, FUN=function(ROW) {\n",
    "  filter(purple_hg19_bed, Gene==ROW[2])\n",
    "}  )\n",
    "\n",
    "EGRF_locs_bed <- do.call(rbind, EGRF_locs)"
   ]
  },
  {
   "cell_type": "markdown",
   "id": "789ba9ff-0723-4df2-983b-9828f62e6835",
   "metadata": {},
   "source": [
    "### Set colors for UC & MC genes"
   ]
  },
  {
   "cell_type": "code",
   "execution_count": 23,
   "id": "98705d98-1168-4642-937f-d452103915d5",
   "metadata": {},
   "outputs": [],
   "source": [
    "age.colors <- c(\"red\",\"blue\")\n",
    "names(age.colors)  <- c(\"Unicellular\", \"Multicellular\")"
   ]
  },
  {
   "cell_type": "markdown",
   "id": "ffc8ec79-a617-4a66-b4b3-9750621800e9",
   "metadata": {},
   "source": [
    "## Now draw CIRCOS plot"
   ]
  },
  {
   "cell_type": "code",
   "execution_count": 26,
   "id": "d99fc6b1-303b-481a-a702-74f950233439",
   "metadata": {},
   "outputs": [
    {
     "data": {
      "text/html": [
       "<strong>png:</strong> 2"
      ],
      "text/latex": [
       "\\textbf{png:} 2"
      ],
      "text/markdown": [
       "**png:** 2"
      ],
      "text/plain": [
       "png \n",
       "  2 "
      ]
     },
     "metadata": {},
     "output_type": "display_data"
    }
   ],
   "source": [
    "## Initialize blank plot\n",
    "pdf(\"Fig 3G.pdf\", width=5, height=5)\n",
    "circos.initializeWithIdeogram(plotType = NULL)\n",
    "\n",
    "## Label genes of interest\n",
    "circos.genomicLabels(g.info, labels.column = \"GeneID\", side = \"outside\",  col=\"orange\", cex=0.7, padding=0,\n",
    "                     labels_height=0.01 )\n",
    "\n",
    "## Add chromsome tracks\n",
    "circos.genomicIdeogram()\n",
    "\n",
    "circos.track(track.index = get.current.track.index(), panel.fun = function(x, y) {\n",
    "  circos.genomicAxis(h = \"top\")\n",
    "})\n",
    "\n",
    "## Show positions of genes as points, coloured by UC/MC status:\n",
    "circos.genomicTrackPlotRegion(bed, numeric.column = 4, ylim = c(-0.5,1.5), ##track.height=5,\n",
    "                              panel.fun = function(region, value, ...) {\n",
    "                                circos.genomicPoints(region, value[[1]], pch = 16, cex = 1, col = age.colors[value[[3]]] )  #col=\"black\" )\n",
    "                                i = getI(...)\n",
    "                                # circos.lines(CELL_META$cell.xlim, c(i, i), lty = 2, col = \"#00000040\")\n",
    "                              })\n",
    "\n",
    "circos.genomicLink(GeneA_locs_bed, GeneB_locs_bed, col = \"grey80\", lwd=2 )\n",
    "circos.genomicLink(EGRF_locs_bed[1:48,], EGRF_partner_locs_bed, col = \"orange\", lwd=2 )\n",
    "\n",
    "dev.off()"
   ]
  },
  {
   "cell_type": "code",
   "execution_count": null,
   "id": "ade73b86-4151-4e4c-a728-fc81873c4c24",
   "metadata": {},
   "outputs": [],
   "source": []
  }
 ],
 "metadata": {
  "kernelspec": {
   "display_name": "R",
   "language": "R",
   "name": "ir"
  },
  "language_info": {
   "codemirror_mode": "r",
   "file_extension": ".r",
   "mimetype": "text/x-r-source",
   "name": "R",
   "pygments_lexer": "r",
   "version": "4.1.2"
  }
 },
 "nbformat": 4,
 "nbformat_minor": 5
}
