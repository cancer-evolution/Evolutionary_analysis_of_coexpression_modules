{
 "cells": [
  {
   "cell_type": "markdown",
   "id": "da60571d-d665-47e3-a729-b5fe5343b982",
   "metadata": {},
   "source": [
    "### Code for making Figure S9"
   ]
  },
  {
   "cell_type": "code",
   "execution_count": 1,
   "id": "8f040690-f5a7-4154-8c6a-bab14e8e4d5a",
   "metadata": {},
   "outputs": [
    {
     "name": "stderr",
     "output_type": "stream",
     "text": [
      "\n",
      "Attaching package: ‘dplyr’\n",
      "\n",
      "\n",
      "The following objects are masked from ‘package:stats’:\n",
      "\n",
      "    filter, lag\n",
      "\n",
      "\n",
      "The following objects are masked from ‘package:base’:\n",
      "\n",
      "    intersect, setdiff, setequal, union\n",
      "\n",
      "\n",
      "\n",
      "Attaching package: ‘reshape’\n",
      "\n",
      "\n",
      "The following object is masked from ‘package:dplyr’:\n",
      "\n",
      "    rename\n",
      "\n",
      "\n"
     ]
    }
   ],
   "source": [
    "library(ggplot2)\n",
    "library(\"ggsci\")\n",
    "library(dplyr)\n",
    "library(reshape)"
   ]
  },
  {
   "cell_type": "code",
   "execution_count": 2,
   "id": "d4fd6c39-501a-4749-842e-e10f9b3f80d7",
   "metadata": {},
   "outputs": [],
   "source": [
    "setwd(\"/R data\")\n",
    "\n",
    "load(\"ssGSEA_module_results.Rdata\")"
   ]
  },
  {
   "cell_type": "code",
   "execution_count": 3,
   "id": "3c3ad6f5-3553-4fe4-ba7c-af6168872c74",
   "metadata": {},
   "outputs": [
    {
     "data": {
      "text/html": [
       "'ssGSEA_module_results'"
      ],
      "text/latex": [
       "'ssGSEA\\_module\\_results'"
      ],
      "text/markdown": [
       "'ssGSEA_module_results'"
      ],
      "text/plain": [
       "[1] \"ssGSEA_module_results\""
      ]
     },
     "metadata": {},
     "output_type": "display_data"
    }
   ],
   "source": [
    "ls()"
   ]
  },
  {
   "cell_type": "markdown",
   "id": "07a2e05d-ba80-4a9c-ac20-f8616b23f8e3",
   "metadata": {},
   "source": [
    "### Calculate median ssGSEA scores for each module in each patient in each cohort "
   ]
  },
  {
   "cell_type": "code",
   "execution_count": 5,
   "id": "c36c058a-a53b-49a8-bd61-f4d77f80125a",
   "metadata": {},
   "outputs": [
    {
     "data": {
      "text/plain": [
       "    Min.  1st Qu.   Median     Mean  3rd Qu.     Max. \n",
       "-0.10426 -0.01218  0.03200  0.07930  0.17144  0.35279 "
      ]
     },
     "metadata": {},
     "output_type": "display_data"
    }
   ],
   "source": [
    "mod.names <- colnames( t(ssGSEA_module_results$tumour$THCA) )\n",
    "mod.scores <- t(ssGSEA_module_results$tumour$THCA)\n",
    "mod.meds <- apply( mod.scores, 2, median) \n",
    "\n",
    "summary( mod.meds )"
   ]
  },
  {
   "cell_type": "code",
   "execution_count": 6,
   "id": "d25cface-d8a4-4197-a8b2-38c8204ee754",
   "metadata": {},
   "outputs": [
    {
     "data": {
      "text/html": [
       "<dl>\n",
       "\t<dt>$Top.25prct</dt>\n",
       "\t\t<dd><style>\n",
       ".list-inline {list-style: none; margin:0; padding: 0}\n",
       ".list-inline>li {display: inline-block}\n",
       ".list-inline>li:not(:last-child)::after {content: \"\\00b7\"; padding: 0 .5ex}\n",
       "</style>\n",
       "<ol class=list-inline><li>'darkturquoise'</li><li>'white'</li><li>'cyan'</li><li>'green'</li><li>'violet'</li><li>'lightcyan1'</li></ol>\n",
       "</dd>\n",
       "\t<dt>$Bottom.75prct</dt>\n",
       "\t\t<dd><style>\n",
       ".list-inline {list-style: none; margin:0; padding: 0}\n",
       ".list-inline>li {display: inline-block}\n",
       ".list-inline>li:not(:last-child)::after {content: \"\\00b7\"; padding: 0 .5ex}\n",
       "</style>\n",
       "<ol class=list-inline><li>'lightgreen'</li><li>'midnightblue'</li><li>'darkgrey'</li><li>'grey60'</li><li>'grey'</li><li>'magenta'</li><li>'brown'</li><li>'royalblue'</li><li>'orangered4'</li><li>'plum1'</li><li>'skyblue3'</li><li>'lightyellow'</li><li>'black'</li><li>'paleturquoise'</li><li>'darkred'</li><li>'darkmagenta'</li><li>'ivory'</li></ol>\n",
       "</dd>\n",
       "</dl>\n"
      ],
      "text/latex": [
       "\\begin{description}\n",
       "\\item[\\$Top.25prct] \\begin{enumerate*}\n",
       "\\item 'darkturquoise'\n",
       "\\item 'white'\n",
       "\\item 'cyan'\n",
       "\\item 'green'\n",
       "\\item 'violet'\n",
       "\\item 'lightcyan1'\n",
       "\\end{enumerate*}\n",
       "\n",
       "\\item[\\$Bottom.75prct] \\begin{enumerate*}\n",
       "\\item 'lightgreen'\n",
       "\\item 'midnightblue'\n",
       "\\item 'darkgrey'\n",
       "\\item 'grey60'\n",
       "\\item 'grey'\n",
       "\\item 'magenta'\n",
       "\\item 'brown'\n",
       "\\item 'royalblue'\n",
       "\\item 'orangered4'\n",
       "\\item 'plum1'\n",
       "\\item 'skyblue3'\n",
       "\\item 'lightyellow'\n",
       "\\item 'black'\n",
       "\\item 'paleturquoise'\n",
       "\\item 'darkred'\n",
       "\\item 'darkmagenta'\n",
       "\\item 'ivory'\n",
       "\\end{enumerate*}\n",
       "\n",
       "\\end{description}\n"
      ],
      "text/markdown": [
       "$Top.25prct\n",
       ":   1. 'darkturquoise'\n",
       "2. 'white'\n",
       "3. 'cyan'\n",
       "4. 'green'\n",
       "5. 'violet'\n",
       "6. 'lightcyan1'\n",
       "\n",
       "\n",
       "\n",
       "$Bottom.75prct\n",
       ":   1. 'lightgreen'\n",
       "2. 'midnightblue'\n",
       "3. 'darkgrey'\n",
       "4. 'grey60'\n",
       "5. 'grey'\n",
       "6. 'magenta'\n",
       "7. 'brown'\n",
       "8. 'royalblue'\n",
       "9. 'orangered4'\n",
       "10. 'plum1'\n",
       "11. 'skyblue3'\n",
       "12. 'lightyellow'\n",
       "13. 'black'\n",
       "14. 'paleturquoise'\n",
       "15. 'darkred'\n",
       "16. 'darkmagenta'\n",
       "17. 'ivory'\n",
       "\n",
       "\n",
       "\n",
       "\n",
       "\n"
      ],
      "text/plain": [
       "$Top.25prct\n",
       "[1] \"darkturquoise\" \"white\"         \"cyan\"          \"green\"        \n",
       "[5] \"violet\"        \"lightcyan1\"   \n",
       "\n",
       "$Bottom.75prct\n",
       " [1] \"lightgreen\"    \"midnightblue\"  \"darkgrey\"      \"grey60\"       \n",
       " [5] \"grey\"          \"magenta\"       \"brown\"         \"royalblue\"    \n",
       " [9] \"orangered4\"    \"plum1\"         \"skyblue3\"      \"lightyellow\"  \n",
       "[13] \"black\"         \"paleturquoise\" \"darkred\"       \"darkmagenta\"  \n",
       "[17] \"ivory\"        \n"
      ]
     },
     "metadata": {},
     "output_type": "display_data"
    }
   ],
   "source": [
    "top.quartile <- as.numeric(summary(mod.meds)[5])\n",
    "\n",
    "list( \"Top.25prct\"=mod.names[ mod.meds >= top.quartile ], \n",
    "     \"Bottom.75prct\"=mod.names[ mod.meds < top.quartile ] )"
   ]
  },
  {
   "cell_type": "code",
   "execution_count": 7,
   "id": "6a0a56fa-680b-4fb7-aa11-4e584cad1dd7",
   "metadata": {},
   "outputs": [],
   "source": [
    "Top.quartile.modules.each.tumour <- lapply( ssGSEA_module_results$tumour, \n",
    "    FUN=function(Scores) { \n",
    "        mod.scores <- t(Scores)\n",
    "        mod.names <- colnames(mod.scores)\n",
    "        mod.meds <- apply( mod.scores, 2, median) \n",
    "        \n",
    "        top.quartile <- as.numeric(summary(mod.meds)[5])\n",
    "\n",
    "        list( \"Top.25prct\"=mod.names[ mod.meds >= top.quartile ], \n",
    "         \"Bottom.75prct\"=mod.names[ mod.meds < top.quartile ] )\n",
    "        }\n",
    "                                           )"
   ]
  },
  {
   "cell_type": "markdown",
   "id": "af6f4e12-d578-4c45-a772-bd95a1d6e1b0",
   "metadata": {},
   "source": [
    "### Now apply to all cohorts"
   ]
  },
  {
   "cell_type": "code",
   "execution_count": 8,
   "id": "c748c599-401b-4b4a-b511-7df4fa4590bc",
   "metadata": {},
   "outputs": [],
   "source": [
    "load(\"objects/all_preservation_n_to_t2.Rdata\")\n",
    "load(\"objects/all_preservation_t_to_n2.Rdata\")"
   ]
  },
  {
   "cell_type": "code",
   "execution_count": 9,
   "id": "85a45a79-4274-44f1-8b6d-56c20a6373e7",
   "metadata": {},
   "outputs": [
    {
     "data": {
      "text/html": [
       "<style>\n",
       ".list-inline {list-style: none; margin:0; padding: 0}\n",
       ".list-inline>li {display: inline-block}\n",
       ".list-inline>li:not(:last-child)::after {content: \"\\00b7\"; padding: 0 .5ex}\n",
       "</style>\n",
       "<ol class=list-inline><li>'all_preservation_n_to_t2'</li><li>'all_preservation_t_to_n2'</li><li>'mod.meds'</li><li>'mod.names'</li><li>'mod.scores'</li><li>'ssGSEA_module_results'</li><li>'top.quartile'</li><li>'Top.quartile.modules.each.tumour'</li></ol>\n"
      ],
      "text/latex": [
       "\\begin{enumerate*}\n",
       "\\item 'all\\_preservation\\_n\\_to\\_t2'\n",
       "\\item 'all\\_preservation\\_t\\_to\\_n2'\n",
       "\\item 'mod.meds'\n",
       "\\item 'mod.names'\n",
       "\\item 'mod.scores'\n",
       "\\item 'ssGSEA\\_module\\_results'\n",
       "\\item 'top.quartile'\n",
       "\\item 'Top.quartile.modules.each.tumour'\n",
       "\\end{enumerate*}\n"
      ],
      "text/markdown": [
       "1. 'all_preservation_n_to_t2'\n",
       "2. 'all_preservation_t_to_n2'\n",
       "3. 'mod.meds'\n",
       "4. 'mod.names'\n",
       "5. 'mod.scores'\n",
       "6. 'ssGSEA_module_results'\n",
       "7. 'top.quartile'\n",
       "8. 'Top.quartile.modules.each.tumour'\n",
       "\n",
       "\n"
      ],
      "text/plain": [
       "[1] \"all_preservation_n_to_t2\"         \"all_preservation_t_to_n2\"        \n",
       "[3] \"mod.meds\"                         \"mod.names\"                       \n",
       "[5] \"mod.scores\"                       \"ssGSEA_module_results\"           \n",
       "[7] \"top.quartile\"                     \"Top.quartile.modules.each.tumour\""
      ]
     },
     "metadata": {},
     "output_type": "display_data"
    }
   ],
   "source": [
    "ls()"
   ]
  },
  {
   "cell_type": "code",
   "execution_count": 10,
   "id": "aac19260-68cc-4721-9d18-a4e29b6015e0",
   "metadata": {},
   "outputs": [
    {
     "data": {
      "text/html": [
       "<table class=\"dataframe\">\n",
       "<caption>A data.frame: 6 × 9</caption>\n",
       "<thead>\n",
       "\t<tr><th></th><th scope=col>Tumour</th><th scope=col>Cluster</th><th scope=col>Per_50</th><th scope=col>Age</th><th scope=col>Cluster_name</th><th scope=col>Diff_per_UC</th><th scope=col>Cluster_size</th><th scope=col>Preservation_ratio</th><th scope=col>Category</th></tr>\n",
       "\t<tr><th></th><th scope=col>&lt;fct&gt;</th><th scope=col>&lt;fct&gt;</th><th scope=col>&lt;dbl&gt;</th><th scope=col>&lt;fct&gt;</th><th scope=col>&lt;chr&gt;</th><th scope=col>&lt;dbl&gt;</th><th scope=col>&lt;int&gt;</th><th scope=col>&lt;dbl&gt;</th><th scope=col>&lt;fct&gt;</th></tr>\n",
       "</thead>\n",
       "<tbody>\n",
       "\t<tr><th scope=row>1</th><td>BLCA</td><td>skyblue      </td><td>3</td><td>MC   </td><td>BLCA_tumour_skyblue      </td><td>-19.864468</td><td> 104</td><td>0.028846154</td><td>High_score  </td></tr>\n",
       "\t<tr><th scope=row>2</th><td>BLCA</td><td>yellow       </td><td>2</td><td>UC   </td><td>BLCA_tumour_yellow       </td><td> 12.711385</td><td>1423</td><td>0.001405481</td><td>Low_score   </td></tr>\n",
       "\t<tr><th scope=row>3</th><td>BLCA</td><td>white        </td><td>5</td><td>Mixed</td><td>BLCA_tumour_white        </td><td>  1.687936</td><td> 105</td><td>0.047619048</td><td>High_score  </td></tr>\n",
       "\t<tr><th scope=row>4</th><td>BLCA</td><td>darkturquoise</td><td>3</td><td>Mixed</td><td>BLCA_tumour_darkturquoise</td><td> 10.947195</td><td> 201</td><td>0.014925373</td><td>Median_score</td></tr>\n",
       "\t<tr><th scope=row>5</th><td>BLCA</td><td>purple       </td><td>3</td><td>Mixed</td><td>BLCA_tumour_purple       </td><td> 11.341206</td><td> 332</td><td>0.009036145</td><td>Low_score   </td></tr>\n",
       "\t<tr><th scope=row>6</th><td>BLCA</td><td>grey60       </td><td>3</td><td>MC   </td><td>BLCA_tumour_grey60       </td><td> -1.894995</td><td> 219</td><td>0.013698630</td><td>Median_score</td></tr>\n",
       "</tbody>\n",
       "</table>\n"
      ],
      "text/latex": [
       "A data.frame: 6 × 9\n",
       "\\begin{tabular}{r|lllllllll}\n",
       "  & Tumour & Cluster & Per\\_50 & Age & Cluster\\_name & Diff\\_per\\_UC & Cluster\\_size & Preservation\\_ratio & Category\\\\\n",
       "  & <fct> & <fct> & <dbl> & <fct> & <chr> & <dbl> & <int> & <dbl> & <fct>\\\\\n",
       "\\hline\n",
       "\t1 & BLCA & skyblue       & 3 & MC    & BLCA\\_tumour\\_skyblue       & -19.864468 &  104 & 0.028846154 & High\\_score  \\\\\n",
       "\t2 & BLCA & yellow        & 2 & UC    & BLCA\\_tumour\\_yellow        &  12.711385 & 1423 & 0.001405481 & Low\\_score   \\\\\n",
       "\t3 & BLCA & white         & 5 & Mixed & BLCA\\_tumour\\_white         &   1.687936 &  105 & 0.047619048 & High\\_score  \\\\\n",
       "\t4 & BLCA & darkturquoise & 3 & Mixed & BLCA\\_tumour\\_darkturquoise &  10.947195 &  201 & 0.014925373 & Median\\_score\\\\\n",
       "\t5 & BLCA & purple        & 3 & Mixed & BLCA\\_tumour\\_purple        &  11.341206 &  332 & 0.009036145 & Low\\_score   \\\\\n",
       "\t6 & BLCA & grey60        & 3 & MC    & BLCA\\_tumour\\_grey60        &  -1.894995 &  219 & 0.013698630 & Median\\_score\\\\\n",
       "\\end{tabular}\n"
      ],
      "text/markdown": [
       "\n",
       "A data.frame: 6 × 9\n",
       "\n",
       "| <!--/--> | Tumour &lt;fct&gt; | Cluster &lt;fct&gt; | Per_50 &lt;dbl&gt; | Age &lt;fct&gt; | Cluster_name &lt;chr&gt; | Diff_per_UC &lt;dbl&gt; | Cluster_size &lt;int&gt; | Preservation_ratio &lt;dbl&gt; | Category &lt;fct&gt; |\n",
       "|---|---|---|---|---|---|---|---|---|---|\n",
       "| 1 | BLCA | skyblue       | 3 | MC    | BLCA_tumour_skyblue       | -19.864468 |  104 | 0.028846154 | High_score   |\n",
       "| 2 | BLCA | yellow        | 2 | UC    | BLCA_tumour_yellow        |  12.711385 | 1423 | 0.001405481 | Low_score    |\n",
       "| 3 | BLCA | white         | 5 | Mixed | BLCA_tumour_white         |   1.687936 |  105 | 0.047619048 | High_score   |\n",
       "| 4 | BLCA | darkturquoise | 3 | Mixed | BLCA_tumour_darkturquoise |  10.947195 |  201 | 0.014925373 | Median_score |\n",
       "| 5 | BLCA | purple        | 3 | Mixed | BLCA_tumour_purple        |  11.341206 |  332 | 0.009036145 | Low_score    |\n",
       "| 6 | BLCA | grey60        | 3 | MC    | BLCA_tumour_grey60        |  -1.894995 |  219 | 0.013698630 | Median_score |\n",
       "\n"
      ],
      "text/plain": [
       "  Tumour Cluster       Per_50 Age   Cluster_name              Diff_per_UC\n",
       "1 BLCA   skyblue       3      MC    BLCA_tumour_skyblue       -19.864468 \n",
       "2 BLCA   yellow        2      UC    BLCA_tumour_yellow         12.711385 \n",
       "3 BLCA   white         5      Mixed BLCA_tumour_white           1.687936 \n",
       "4 BLCA   darkturquoise 3      Mixed BLCA_tumour_darkturquoise  10.947195 \n",
       "5 BLCA   purple        3      Mixed BLCA_tumour_purple         11.341206 \n",
       "6 BLCA   grey60        3      MC    BLCA_tumour_grey60         -1.894995 \n",
       "  Cluster_size Preservation_ratio Category    \n",
       "1  104         0.028846154        High_score  \n",
       "2 1423         0.001405481        Low_score   \n",
       "3  105         0.047619048        High_score  \n",
       "4  201         0.014925373        Median_score\n",
       "5  332         0.009036145        Low_score   \n",
       "6  219         0.013698630        Median_score"
      ]
     },
     "metadata": {},
     "output_type": "display_data"
    }
   ],
   "source": [
    "head(all_preservation_t_to_n2)"
   ]
  },
  {
   "cell_type": "code",
   "execution_count": 11,
   "id": "e8c2afbe-11f6-4779-a8b9-f9a105051dcc",
   "metadata": {},
   "outputs": [
    {
     "data": {
      "text/plain": [
       "     Tumour           Cluster        Per_50       Age      Cluster_name      \n",
       " HNSC   : 58   darkgrey   : 14   Min.   :  1   UC   :102   Length:588        \n",
       " LUSC   : 58   black      : 13   1st Qu.:  2   Mixed:379   Class :character  \n",
       " BRCA   : 47   brown      : 12   Median :  3   MC   :107   Mode  :character  \n",
       " KICH   : 46   cyan       : 12   Mean   :Inf                                 \n",
       " LUAD   : 45   darkgreen  : 12   3rd Qu.:  4                                 \n",
       " ESCA   : 38   darkmagenta: 12   Max.   :Inf                                 \n",
       " (Other):296   (Other)    :513                                               \n",
       "  Diff_per_UC        Cluster_size     Preservation_ratio          Category  \n",
       " Min.   :-29.1763   Min.   :  34.00   Min.   :0.0003027   Low_score   :195  \n",
       " 1st Qu.:  0.7469   1st Qu.:  95.75   1st Qu.:0.0090909   Median_score:190  \n",
       " Median :  8.8115   Median : 174.00   Median :0.0176835   High_score  :202  \n",
       " Mean   :  7.3154   Mean   : 295.52   Mean   :      Inf   Inf_score   :  1  \n",
       " 3rd Qu.: 14.8603   3rd Qu.: 328.00   3rd Qu.:0.0317882                     \n",
       " Max.   : 37.8935   Max.   :3304.00   Max.   :      Inf                     \n",
       "                                                                            "
      ]
     },
     "metadata": {},
     "output_type": "display_data"
    }
   ],
   "source": [
    "summary(all_preservation_t_to_n2)"
   ]
  },
  {
   "cell_type": "markdown",
   "id": "5ef0fa62-f925-45ce-b46e-948d36a36082",
   "metadata": {
    "tags": []
   },
   "source": [
    "### Get the proportion of High Novelty modules in each cohort that has matched tumour & normal samples\n",
    "\n",
    "#### Iterate through each cohort, subsetting the module info from all_preservation_t_to_n2\n",
    "\n",
    "#### Then extract top quartile modules from Top.quartile.modules.each.tumour\n",
    "\n",
    "#### Calculate proportion of High, Med & Low novelty modules in top quartile vs all modules and record"
   ]
  },
  {
   "cell_type": "code",
   "execution_count": null,
   "id": "ea0caecb-1f23-46ad-b43e-26b666397eca",
   "metadata": {},
   "outputs": [],
   "source": [
    "prop.high.novelty <- list()\n",
    "\n",
    "for (cohort in unique( all_preservation_t_to_n2$Tumour ) ) {\n",
    "    \n",
    "    print(cohort)\n",
    "    \n",
    "    subset <- filter(all_preservation_t_to_n2, Tumour==cohort )\n",
    "    \n",
    "    print(dim(subset))\n",
    "\n",
    "    top.quart <- Top.quartile.modules.each.tumour[names(Top.quartile.modules.each.tumour) == cohort]\n",
    "    \n",
    "    #print( class(top.quart[[1]][\"Top.25prct\"]) )\n",
    "    #print( unlist(top.quart[[cohort]][\"Top.25prct\"] ) )\n",
    "    \n",
    "    top.mods <- unlist(top.quart[[cohort]][\"Top.25prct\"] ) \n",
    "    \n",
    "    f <- filter(subset, Cluster %in% top.mods )\n",
    "\n",
    "   #print( dim(f) )\n",
    "    \n",
    "    prop.high.novelty[[cohort]] <- as.numeric( summary( f$Category ) )[-4] / as.numeric( summary( subset$Category ) )[-4]\n",
    "    }"
   ]
  },
  {
   "cell_type": "code",
   "execution_count": 13,
   "id": "5cd16b13-3da3-4141-8038-bd935934d1de",
   "metadata": {},
   "outputs": [
    {
     "data": {
      "text/html": [
       "<table class=\"dataframe\">\n",
       "<caption>A matrix: 6 × 3 of type dbl</caption>\n",
       "<thead>\n",
       "\t<tr><th></th><th scope=col>Low</th><th scope=col>Medium</th><th scope=col>High</th></tr>\n",
       "</thead>\n",
       "<tbody>\n",
       "\t<tr><th scope=row>BLCA</th><td>0.2000000</td><td>0.20000000</td><td>0.4000000</td></tr>\n",
       "\t<tr><th scope=row>BRCA</th><td>0.1875000</td><td>0.20000000</td><td>0.3750000</td></tr>\n",
       "\t<tr><th scope=row>COAD</th><td>0.1666667</td><td>0.08333333</td><td>0.4615385</td></tr>\n",
       "\t<tr><th scope=row>ESCA</th><td>0.2307692</td><td>0.16666667</td><td>0.3846154</td></tr>\n",
       "\t<tr><th scope=row>HNSC</th><td>0.3157895</td><td>0.26315789</td><td>0.2000000</td></tr>\n",
       "\t<tr><th scope=row>KICH</th><td>0.2666667</td><td>0.26666667</td><td>0.2500000</td></tr>\n",
       "</tbody>\n",
       "</table>\n"
      ],
      "text/latex": [
       "A matrix: 6 × 3 of type dbl\n",
       "\\begin{tabular}{r|lll}\n",
       "  & Low & Medium & High\\\\\n",
       "\\hline\n",
       "\tBLCA & 0.2000000 & 0.20000000 & 0.4000000\\\\\n",
       "\tBRCA & 0.1875000 & 0.20000000 & 0.3750000\\\\\n",
       "\tCOAD & 0.1666667 & 0.08333333 & 0.4615385\\\\\n",
       "\tESCA & 0.2307692 & 0.16666667 & 0.3846154\\\\\n",
       "\tHNSC & 0.3157895 & 0.26315789 & 0.2000000\\\\\n",
       "\tKICH & 0.2666667 & 0.26666667 & 0.2500000\\\\\n",
       "\\end{tabular}\n"
      ],
      "text/markdown": [
       "\n",
       "A matrix: 6 × 3 of type dbl\n",
       "\n",
       "| <!--/--> | Low | Medium | High |\n",
       "|---|---|---|---|\n",
       "| BLCA | 0.2000000 | 0.20000000 | 0.4000000 |\n",
       "| BRCA | 0.1875000 | 0.20000000 | 0.3750000 |\n",
       "| COAD | 0.1666667 | 0.08333333 | 0.4615385 |\n",
       "| ESCA | 0.2307692 | 0.16666667 | 0.3846154 |\n",
       "| HNSC | 0.3157895 | 0.26315789 | 0.2000000 |\n",
       "| KICH | 0.2666667 | 0.26666667 | 0.2500000 |\n",
       "\n"
      ],
      "text/plain": [
       "     Low       Medium     High     \n",
       "BLCA 0.2000000 0.20000000 0.4000000\n",
       "BRCA 0.1875000 0.20000000 0.3750000\n",
       "COAD 0.1666667 0.08333333 0.4615385\n",
       "ESCA 0.2307692 0.16666667 0.3846154\n",
       "HNSC 0.3157895 0.26315789 0.2000000\n",
       "KICH 0.2666667 0.26666667 0.2500000"
      ]
     },
     "metadata": {},
     "output_type": "display_data"
    }
   ],
   "source": [
    "nov.props <- t(data.frame(prop.high.novelty))\n",
    "colnames(nov.props) <- c(\"Low\",\"Medium\",\"High\")\n",
    "head(nov.props)"
   ]
  },
  {
   "cell_type": "code",
   "execution_count": 14,
   "id": "c948798c-219c-4bb4-9cdd-67542ab5821f",
   "metadata": {},
   "outputs": [
    {
     "name": "stderr",
     "output_type": "stream",
     "text": [
      "Warning message in type.convert.default(X[[i]], ...):\n",
      "“'as.is' should be specified by the caller; using TRUE”\n",
      "Warning message in type.convert.default(X[[i]], ...):\n",
      "“'as.is' should be specified by the caller; using TRUE”\n"
     ]
    },
    {
     "data": {
      "text/plain": [
       "     Cohort     Novelty     Proportion     \n",
       " BLCA   : 3   Low   :16   Min.   :0.08333  \n",
       " BRCA   : 3   Medium:16   1st Qu.:0.19687  \n",
       " COAD   : 3   High  :16   Median :0.25000  \n",
       " ESCA   : 3               Mean   :0.26454  \n",
       " HNSC   : 3               3rd Qu.:0.34091  \n",
       " KICH   : 3               Max.   :0.46154  \n",
       " (Other):30                                "
      ]
     },
     "metadata": {},
     "output_type": "display_data"
    },
    {
     "data": {
      "text/html": [
       "<table class=\"dataframe\">\n",
       "<caption>A data.frame: 6 × 3</caption>\n",
       "<thead>\n",
       "\t<tr><th></th><th scope=col>Cohort</th><th scope=col>Novelty</th><th scope=col>Proportion</th></tr>\n",
       "\t<tr><th></th><th scope=col>&lt;fct&gt;</th><th scope=col>&lt;fct&gt;</th><th scope=col>&lt;dbl&gt;</th></tr>\n",
       "</thead>\n",
       "<tbody>\n",
       "\t<tr><th scope=row>1</th><td>BLCA</td><td>Low</td><td>0.2000000</td></tr>\n",
       "\t<tr><th scope=row>2</th><td>BRCA</td><td>Low</td><td>0.1875000</td></tr>\n",
       "\t<tr><th scope=row>3</th><td>COAD</td><td>Low</td><td>0.1666667</td></tr>\n",
       "\t<tr><th scope=row>4</th><td>ESCA</td><td>Low</td><td>0.2307692</td></tr>\n",
       "\t<tr><th scope=row>5</th><td>HNSC</td><td>Low</td><td>0.3157895</td></tr>\n",
       "\t<tr><th scope=row>6</th><td>KICH</td><td>Low</td><td>0.2666667</td></tr>\n",
       "</tbody>\n",
       "</table>\n"
      ],
      "text/latex": [
       "A data.frame: 6 × 3\n",
       "\\begin{tabular}{r|lll}\n",
       "  & Cohort & Novelty & Proportion\\\\\n",
       "  & <fct> & <fct> & <dbl>\\\\\n",
       "\\hline\n",
       "\t1 & BLCA & Low & 0.2000000\\\\\n",
       "\t2 & BRCA & Low & 0.1875000\\\\\n",
       "\t3 & COAD & Low & 0.1666667\\\\\n",
       "\t4 & ESCA & Low & 0.2307692\\\\\n",
       "\t5 & HNSC & Low & 0.3157895\\\\\n",
       "\t6 & KICH & Low & 0.2666667\\\\\n",
       "\\end{tabular}\n"
      ],
      "text/markdown": [
       "\n",
       "A data.frame: 6 × 3\n",
       "\n",
       "| <!--/--> | Cohort &lt;fct&gt; | Novelty &lt;fct&gt; | Proportion &lt;dbl&gt; |\n",
       "|---|---|---|---|\n",
       "| 1 | BLCA | Low | 0.2000000 |\n",
       "| 2 | BRCA | Low | 0.1875000 |\n",
       "| 3 | COAD | Low | 0.1666667 |\n",
       "| 4 | ESCA | Low | 0.2307692 |\n",
       "| 5 | HNSC | Low | 0.3157895 |\n",
       "| 6 | KICH | Low | 0.2666667 |\n",
       "\n"
      ],
      "text/plain": [
       "  Cohort Novelty Proportion\n",
       "1 BLCA   Low     0.2000000 \n",
       "2 BRCA   Low     0.1875000 \n",
       "3 COAD   Low     0.1666667 \n",
       "4 ESCA   Low     0.2307692 \n",
       "5 HNSC   Low     0.3157895 \n",
       "6 KICH   Low     0.2666667 "
      ]
     },
     "metadata": {},
     "output_type": "display_data"
    },
    {
     "data": {
      "text/html": [
       "<table class=\"dataframe\">\n",
       "<caption>A data.frame: 3 × 2</caption>\n",
       "<thead>\n",
       "\t<tr><th scope=col>Group.1</th><th scope=col>x</th></tr>\n",
       "\t<tr><th scope=col>&lt;fct&gt;</th><th scope=col>&lt;dbl[,6]&gt;</th></tr>\n",
       "</thead>\n",
       "<tbody>\n",
       "\t<tr><td>Low   </td><td>0.08333333, 0.1780303, 0.2052632, 0.2079543, 0.2500000, 0.3157895</td></tr>\n",
       "\t<tr><td>Medium</td><td>0.08333333, 0.1954545, 0.2649123, 0.2703068, 0.3437500, 0.4285714</td></tr>\n",
       "\t<tr><td>High  </td><td>0.12500000, 0.2500000, 0.3484848, 0.3153530, 0.3884615, 0.4615385</td></tr>\n",
       "</tbody>\n",
       "</table>\n"
      ],
      "text/latex": [
       "A data.frame: 3 × 2\n",
       "\\begin{tabular}{ll}\n",
       " Group.1 & x\\\\\n",
       " <fct> & <dbl{[},6{]}>\\\\\n",
       "\\hline\n",
       "\t Low    & 0.08333333, 0.1780303, 0.2052632, 0.2079543, 0.2500000, 0.3157895\\\\\n",
       "\t Medium & 0.08333333, 0.1954545, 0.2649123, 0.2703068, 0.3437500, 0.4285714\\\\\n",
       "\t High   & 0.12500000, 0.2500000, 0.3484848, 0.3153530, 0.3884615, 0.4615385\\\\\n",
       "\\end{tabular}\n"
      ],
      "text/markdown": [
       "\n",
       "A data.frame: 3 × 2\n",
       "\n",
       "| Group.1 &lt;fct&gt; | x &lt;dbl[,6]&gt; |\n",
       "|---|---|\n",
       "| Low    | 0.08333333, 0.1780303, 0.2052632, 0.2079543, 0.2500000, 0.3157895 |\n",
       "| Medium | 0.08333333, 0.1954545, 0.2649123, 0.2703068, 0.3437500, 0.4285714 |\n",
       "| High   | 0.12500000, 0.2500000, 0.3484848, 0.3153530, 0.3884615, 0.4615385 |\n",
       "\n"
      ],
      "text/plain": [
       "  Group.1 x                                                                \n",
       "1 Low     0.08333333, 0.1780303, 0.2052632, 0.2079543, 0.2500000, 0.3157895\n",
       "2 Medium  0.08333333, 0.1954545, 0.2649123, 0.2703068, 0.3437500, 0.4285714\n",
       "3 High    0.12500000, 0.2500000, 0.3484848, 0.3153530, 0.3884615, 0.4615385"
      ]
     },
     "metadata": {},
     "output_type": "display_data"
    }
   ],
   "source": [
    "m.nov.props <- melt( nov.props, as.is=TRUE)\n",
    "\n",
    "colnames(m.nov.props) <- c(\"Cohort\",\"Novelty\",\"Proportion\")\n",
    "\n",
    "summary(m.nov.props)\n",
    "\n",
    "head( m.nov.props)\n",
    "\n",
    "aggregate(m.nov.props$Proportion, by=list(m.nov.props$Novelty), FUN=summary)"
   ]
  },
  {
   "cell_type": "markdown",
   "id": "bc51c888-2e4f-443f-898b-aaf45346a610",
   "metadata": {},
   "source": [
    "### Now use ggplot2 to make a boxplot showing the proportion of modules in each Novelty category across all cohorts."
   ]
  },
  {
   "cell_type": "code",
   "execution_count": 16,
   "id": "7d4d1963-f064-4b2e-8477-64e8fba747fb",
   "metadata": {},
   "outputs": [
    {
     "data": {
      "text/html": [
       "<strong>png:</strong> 2"
      ],
      "text/latex": [
       "\\textbf{png:} 2"
      ],
      "text/markdown": [
       "**png:** 2"
      ],
      "text/plain": [
       "png \n",
       "  2 "
      ]
     },
     "metadata": {},
     "output_type": "display_data"
    }
   ],
   "source": [
    "g <- ggplot(m.nov.props, aes(x=Novelty, y=Proportion))\n",
    "\n",
    "pdf(\"Modules_novelty_props_box.pdf\")\n",
    "\n",
    "#png(\"Modules_novelty_props_box.png\")\n",
    "\n",
    "g + geom_boxplot(aes(fill=Novelty), outlier.shape=NA) + scale_fill_jco() + theme_bw()+\n",
    "  theme(panel.grid.major = element_blank(), panel.grid.minor = element_blank(), text = element_text(size = 20)) + geom_hline( yintercept = 0.25, col=\"darkorange\", lwd=2, lty=2 )\n",
    "\n",
    "dev.off()"
   ]
  },
  {
   "cell_type": "code",
   "execution_count": null,
   "id": "ff2004d7-0462-4270-9ae2-61424f6b2f02",
   "metadata": {},
   "outputs": [],
   "source": []
  }
 ],
 "metadata": {
  "kernelspec": {
   "display_name": "R",
   "language": "R",
   "name": "ir"
  },
  "language_info": {
   "codemirror_mode": "r",
   "file_extension": ".r",
   "mimetype": "text/x-r-source",
   "name": "R",
   "pygments_lexer": "r",
   "version": "4.1.2"
  }
 },
 "nbformat": 4,
 "nbformat_minor": 5
}
